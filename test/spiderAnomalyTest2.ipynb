{
 "cells": [
  {
   "cell_type": "code",
   "execution_count": 26,
   "id": "6312af41",
   "metadata": {},
   "outputs": [],
   "source": [
    "import os \n",
    "import shutil\n",
    "import random\n",
    "import glob"
   ]
  },
  {
   "cell_type": "code",
   "execution_count": null,
   "id": "2f93c760",
   "metadata": {},
   "outputs": [],
   "source": [
    "# !mkdir spider_test\n",
    "# !mkdir spider_test/normal\n",
    "# !mkdir spider_test/abnormal"
   ]
  },
  {
   "cell_type": "code",
   "execution_count": null,
   "id": "ac66d561",
   "metadata": {},
   "outputs": [
    {
     "name": "stdout",
     "output_type": "stream",
     "text": [
      "Copied 100 files to normal folder\n",
      "Copied 200 files to abnormal folder\n"
     ]
    }
   ],
   "source": [
    "# # Set random seed for reproducible results\n",
    "# random.seed(42)\n",
    "\n",
    "# # Collect all image files first\n",
    "# normal_files = []\n",
    "# abnormal_files = []\n",
    "\n",
    "# for root, dirs, files in os.walk(\"/Users/zideng/Work/LDAWT/examples/black_widows_6_17\"):\n",
    "#     for file in files:\n",
    "#         if file.lower().endswith((\".jpg\", \".png\", \".jpeg\")):\n",
    "#             full_path = os.path.join(root, file)\n",
    "#             if \"Latrodectus_hesperus\" in root:\n",
    "#                 abnormal_files.append(full_path)\n",
    "#             else:\n",
    "#                 normal_files.append(full_path)\n",
    "\n",
    "# # Randomly sample the desired number of files\n",
    "# normal_sample = random.sample(normal_files, min(100, len(normal_files)))\n",
    "# abnormal_sample = random.sample(abnormal_files, min(200, len(abnormal_files)))\n",
    "\n",
    "# # Copy the sampled files\n",
    "# for file_path in normal_sample:\n",
    "#     filename = os.path.basename(file_path)\n",
    "#     shutil.copy(file_path, os.path.join(\"spider_test/normal\", filename))\n",
    "\n",
    "# for file_path in abnormal_sample:\n",
    "#     filename = os.path.basename(file_path)\n",
    "#     shutil.copy(file_path, os.path.join(\"spider_test/abnormal\", filename))\n",
    "\n",
    "# print(f\"Copied {len(normal_sample)} files to normal folder\")\n",
    "# print(f\"Copied {len(abnormal_sample)} files to abnormal folder\")\n",
    "    "
   ]
  },
  {
   "cell_type": "code",
   "execution_count": 27,
   "id": "3fcfd426",
   "metadata": {},
   "outputs": [],
   "source": [
    "# 1. Import required modules\n",
    "from anomalib.data import MVTecAD\n",
    "from anomalib.deploy import ExportType\n",
    "from anomalib.engine import Engine\n",
    "from anomalib.models import Patchcore\n",
    "from anomalib.data import Folder\n",
    "import albumentations as A\n",
    "from albumentations.pytorch import ToTensorV2\n",
    "import numpy as np\n",
    "import torch\n",
    "from PIL import Image\n",
    "import matplotlib.pyplot as plt"
   ]
  },
  {
   "cell_type": "code",
   "execution_count": 28,
   "id": "8b9bf6d5",
   "metadata": {},
   "outputs": [],
   "source": [
    "def albu_adapter(aug):\n",
    "    \"\"\"Wrap an Albumentations Compose so it accepts (image) and returns a Tensor.\n",
    "       Converts PIL/Tensor to NumPy HxWxC uint8 before calling Albumentations.\n",
    "    \"\"\"\n",
    "    def _call(image):\n",
    "        # 1) Normalize input type to NumPy HxWxC\n",
    "        if isinstance(image, np.ndarray):\n",
    "            img = image\n",
    "            # If CHW, convert to HWC\n",
    "            if img.ndim == 3 and img.shape[0] in (1, 3, 4) and img.shape[2] not in (1, 3, 4):\n",
    "                img = np.transpose(img, (1, 2, 0))\n",
    "        elif isinstance(image, Image.Image):\n",
    "            img = np.array(image)  # PIL -> HWC uint8\n",
    "        elif isinstance(image, torch.Tensor):\n",
    "            arr = image.detach().cpu().numpy()\n",
    "            # Assume CHW; convert to HWC\n",
    "            if arr.ndim == 3 and arr.shape[0] in (1, 3, 4):\n",
    "                arr = np.transpose(arr, (1, 2, 0))\n",
    "            # If float in [0,1], convert to uint8 0..255 for Albumentations Normalize defaults\n",
    "            if arr.dtype != np.uint8:\n",
    "                arr = np.clip(arr, 0, 1) * 255.0\n",
    "                arr = arr.astype(np.uint8)\n",
    "            img = arr\n",
    "        else:\n",
    "            raise TypeError(f\"Unsupported image type: {type(image)}. Expected numpy, PIL, or torch.Tensor.\")\n",
    "\n",
    "        # Ensure 3rd dimension exists for grayscale\n",
    "        if img.ndim == 2:\n",
    "            img = img[..., None]\n",
    "\n",
    "        # 2) Call Albumentations with named argument\n",
    "        out = aug(image=img)\n",
    "        # out[\"image\"] is a torch.Tensor thanks to ToTensorV2()\n",
    "        return out[\"image\"]\n",
    "    return _call\n",
    "\n",
    "# --- Define transforms (Albumentations still) ---\n",
    "train_aug = A.Compose([\n",
    "    A.Resize(256, 256),\n",
    "    # Optional robustifying augs for field images:\n",
    "    # A.HorizontalFlip(p=0.5),\n",
    "    # A.ColorJitter(p=0.2),\n",
    "    A.Normalize(mean=(0.485, 0.456, 0.406), std=(0.229, 0.224, 0.225)),  # expects uint8 input\n",
    "    ToTensorV2(),\n",
    "])\n",
    "\n",
    "eval_aug = A.Compose([\n",
    "    A.Resize(256, 256),\n",
    "    A.Normalize(mean=(0.485, 0.456, 0.406), std=(0.229, 0.224, 0.225)),\n",
    "    ToTensorV2(),\n",
    "])\n",
    "\n",
    "train_tf = albu_adapter(train_aug)\n",
    "eval_tf  = albu_adapter(eval_aug)\n"
   ]
  },
  {
   "cell_type": "code",
   "execution_count": 29,
   "id": "9d055de3",
   "metadata": {},
   "outputs": [],
   "source": [
    "dm = Folder(\n",
    "    name=\"spider_anomaly_detection\",\n",
    "    root=\"spider_test\",\n",
    "    normal_dir=\"normal\",\n",
    "    abnormal_dir=\"abnormal\",\n",
    "    train_augmentations=train_tf,\n",
    "    val_augmentations=eval_tf,\n",
    "    test_augmentations=eval_tf,\n",
    "    train_batch_size=16,\n",
    "    eval_batch_size=16,\n",
    "    num_workers=0,  # set to 0 for easier debugging; increase later\n",
    ")"
   ]
  },
  {
   "cell_type": "code",
   "execution_count": 46,
   "id": "5651e6a4",
   "metadata": {},
   "outputs": [
    {
     "data": {
      "text/html": [
       "Finishing previous runs because reinit is set to 'default'."
      ],
      "text/plain": [
       "<IPython.core.display.HTML object>"
      ]
     },
     "metadata": {},
     "output_type": "display_data"
    },
    {
     "data": {
      "text/html": [],
      "text/plain": [
       "<IPython.core.display.HTML object>"
      ]
     },
     "metadata": {},
     "output_type": "display_data"
    },
    {
     "data": {
      "text/html": [
       " View run <strong style=\"color:#cdcd00\">patchcore-spider-experiment</strong> at: <a href='https://wandb.ai/zkdeng-university-of-arizona/spider-anomaly-detection-test2/runs/mkzoz97h' target=\"_blank\">https://wandb.ai/zkdeng-university-of-arizona/spider-anomaly-detection-test2/runs/mkzoz97h</a><br> View project at: <a href='https://wandb.ai/zkdeng-university-of-arizona/spider-anomaly-detection-test2' target=\"_blank\">https://wandb.ai/zkdeng-university-of-arizona/spider-anomaly-detection-test2</a><br>Synced 5 W&B file(s), 0 media file(s), 0 artifact file(s) and 0 other file(s)"
      ],
      "text/plain": [
       "<IPython.core.display.HTML object>"
      ]
     },
     "metadata": {},
     "output_type": "display_data"
    },
    {
     "data": {
      "text/html": [
       "Find logs at: <code>./wandb/run-20250915_172121-mkzoz97h/logs</code>"
      ],
      "text/plain": [
       "<IPython.core.display.HTML object>"
      ]
     },
     "metadata": {},
     "output_type": "display_data"
    },
    {
     "data": {
      "text/html": [
       "Tracking run with wandb version 0.19.10"
      ],
      "text/plain": [
       "<IPython.core.display.HTML object>"
      ]
     },
     "metadata": {},
     "output_type": "display_data"
    },
    {
     "data": {
      "text/html": [
       "Run data is saved locally in <code>/Users/zideng/Work/Anomaly/wandb/run-20250915_172312-llf9tzqr</code>"
      ],
      "text/plain": [
       "<IPython.core.display.HTML object>"
      ]
     },
     "metadata": {},
     "output_type": "display_data"
    },
    {
     "data": {
      "text/html": [
       "Syncing run <strong><a href='https://wandb.ai/zkdeng-university-of-arizona/spider-anomaly-detection-test2/runs/llf9tzqr' target=\"_blank\">patchcore-spider-experiment</a></strong> to <a href='https://wandb.ai/zkdeng-university-of-arizona/spider-anomaly-detection-test2' target=\"_blank\">Weights & Biases</a> (<a href='https://wandb.me/developer-guide' target=\"_blank\">docs</a>)<br>"
      ],
      "text/plain": [
       "<IPython.core.display.HTML object>"
      ]
     },
     "metadata": {},
     "output_type": "display_data"
    },
    {
     "data": {
      "text/html": [
       " View project at <a href='https://wandb.ai/zkdeng-university-of-arizona/spider-anomaly-detection-test2' target=\"_blank\">https://wandb.ai/zkdeng-university-of-arizona/spider-anomaly-detection-test2</a>"
      ],
      "text/plain": [
       "<IPython.core.display.HTML object>"
      ]
     },
     "metadata": {},
     "output_type": "display_data"
    },
    {
     "data": {
      "text/html": [
       " View run at <a href='https://wandb.ai/zkdeng-university-of-arizona/spider-anomaly-detection-test2/runs/llf9tzqr' target=\"_blank\">https://wandb.ai/zkdeng-university-of-arizona/spider-anomaly-detection-test2/runs/llf9tzqr</a>"
      ],
      "text/plain": [
       "<IPython.core.display.HTML object>"
      ]
     },
     "metadata": {},
     "output_type": "display_data"
    },
    {
     "name": "stdout",
     "output_type": "stream",
     "text": [
      "🚀 Weights & Biases logger initialized!\n",
      "📊 Project: spider-anomaly-detection-test2\n",
      "🏷️  Run name: patchcore-spider-experiment\n",
      "🌐 Run URL: https://wandb.ai/zkdeng-university-of-arizona/spider-anomaly-detection-test2/runs/llf9tzqr\n"
     ]
    }
   ],
   "source": [
    "# FIXED WEIGHTS & BIASES INTEGRATION FOR SPIDERANOMALY TEST\n",
    "# Install wandb: pip install wandb\n",
    "# Login first time: wandb login\n",
    "\n",
    "import wandb\n",
    "from anomalib.loggers import AnomalibWandbLogger\n",
    "\n",
    "# Initialize wandb logger (AnomalibWandbLogger for anomalib integration)\n",
    "wandb_logger = AnomalibWandbLogger(\n",
    "    project=\"spider-anomaly-detection-test2\",\n",
    "    name=\"patchcore-spider-experiment\",\n",
    "    save_dir=\"./logs\"  # Required parameter for AnomalibWandbLogger\n",
    ")\n",
    "\n",
    "# Initialize wandb run with config (for manual logging)\n",
    "wandb.init(\n",
    "    project=\"spider-anomaly-detection-test2\",\n",
    "    name=\"patchcore-spider-experiment\",\n",
    "    tags=[\"patchcore\", \"spiders\", \"anomaly-detection\", \"resnet18\"],\n",
    "    notes=\"Spider anomaly detection using PatchCore with detailed evaluation\",\n",
    "    config={\n",
    "        \"model\": \"PatchCore\",\n",
    "        \"backbone\": \"resnet18\", \n",
    "        \"layers\": [\"layer2\", \"layer3\"],\n",
    "        \"coreset_sampling_ratio\": 0.10,\n",
    "        \"num_neighbors\": 12,\n",
    "        \"train_batch_size\": 16,\n",
    "        \"eval_batch_size\": 16,\n",
    "        \"max_epochs\": 1,\n",
    "        \"dataset_root\": \"spider_test\",\n",
    "        \"image_size\": \"default\",\n",
    "        \"num_workers\": 0,\n",
    "    }\n",
    ")\n",
    "\n",
    "print(\"🚀 Weights & Biases logger initialized!\")\n",
    "print(f\"📊 Project: {wandb.run.project}\")\n",
    "print(f\"🏷️  Run name: {wandb.run.name}\")\n",
    "print(f\"🌐 Run URL: {wandb.run.url}\")\n"
   ]
  },
  {
   "cell_type": "code",
   "execution_count": 50,
   "id": "2bb51bfd",
   "metadata": {},
   "outputs": [
    {
     "name": "stderr",
     "output_type": "stream",
     "text": [
      "GPU available: True (mps), used: True\n",
      "TPU available: False, using: 0 TPU cores\n",
      "HPU available: False, using: 0 HPUs\n",
      "/Users/zideng/mamba/envs/ml/lib/python3.13/site-packages/lightning/pytorch/core/optimizer.py:183: `LightningModule.configure_optimizers` returned `None`, this fit will run with no optimizer\n",
      "\n",
      "  | Name           | Type           | Params | Mode \n",
      "----------------------------------------------------------\n",
      "0 | pre_processor  | PreProcessor   | 0      | train\n",
      "1 | post_processor | PostProcessor  | 0      | train\n",
      "2 | evaluator      | Evaluator      | 0      | train\n",
      "3 | model          | PatchcoreModel | 2.8 M  | train\n",
      "----------------------------------------------------------\n",
      "2.8 M     Trainable params\n",
      "0         Non-trainable params\n",
      "2.8 M     Total params\n",
      "11.131    Total estimated model params size (MB)\n",
      "19        Modules in train mode\n",
      "69        Modules in eval mode\n",
      "/Users/zideng/mamba/envs/ml/lib/python3.13/site-packages/lightning/pytorch/trainer/connectors/data_connector.py:425: The 'train_dataloader' does not have many workers which may be a bottleneck. Consider increasing the value of the `num_workers` argument` to `num_workers=9` in the `DataLoader` to improve performance.\n",
      "/Users/zideng/mamba/envs/ml/lib/python3.13/site-packages/lightning/pytorch/trainer/connectors/data_connector.py:425: The 'val_dataloader' does not have many workers which may be a bottleneck. Consider increasing the value of the `num_workers` argument` to `num_workers=9` in the `DataLoader` to improve performance.\n"
     ]
    },
    {
     "name": "stdout",
     "output_type": "stream",
     "text": [
      "🚀 Starting training with wandb logging...\n",
      "Epoch 0: 100%|██████████| 5/5 [00:00<00:00,  8.07it/s, v_num=tzqr]"
     ]
    },
    {
     "name": "stderr",
     "output_type": "stream",
     "text": [
      "\n",
      "\u001b[A\n",
      "\u001b[A\n",
      "\u001b[A\n",
      "\u001b[A\n",
      "\u001b[A\n",
      "\u001b[A\n",
      "\u001b[A\n",
      "\u001b[A\n",
      "\u001b[A\n",
      "\u001b[A\n",
      "\u001b[A\n",
      "\u001b[A\n",
      "\u001b[A\n",
      "\u001b[A\n",
      "\u001b[A\n",
      "\u001b[A\n",
      "\u001b[A\n",
      "\u001b[A\n",
      "\u001b[A\n",
      "\u001b[A\n",
      "\u001b[A\n",
      "\u001b[A\n",
      "\u001b[A\n",
      "\u001b[A\n",
      "\u001b[A\n",
      "\u001b[A\n",
      "\u001b[A\n",
      "\u001b[A\n",
      "\u001b[A\n",
      "\u001b[A\n",
      "\u001b[A\n",
      "\u001b[A\n",
      "\u001b[A\n",
      "\u001b[A\n",
      "\u001b[A\n",
      "\u001b[A\n",
      "\u001b[A\n",
      "\u001b[A\n",
      "\u001b[A\n",
      "\u001b[A\n",
      "\u001b[A\n",
      "\u001b[A\n",
      "\u001b[A\n",
      "\u001b[A\n",
      "\u001b[A\n",
      "\u001b[A\n",
      "\u001b[A\n",
      "\u001b[A\n",
      "\u001b[A\n",
      "\u001b[A\n",
      "\u001b[A\n",
      "\u001b[A\n",
      "\u001b[A\n",
      "\u001b[A\n",
      "\u001b[A\n",
      "\u001b[A\n",
      "\u001b[A\n",
      "\u001b[A\n",
      "\u001b[A\n",
      "\u001b[A\n",
      "\u001b[A\n",
      "\u001b[A\n",
      "\u001b[A\n",
      "\u001b[A\n",
      "\u001b[A\n",
      "\u001b[A\n",
      "\u001b[A\n",
      "\u001b[A\n",
      "\u001b[A\n",
      "\u001b[A\n",
      "\u001b[A\n",
      "\u001b[A\n",
      "\u001b[A\n",
      "\u001b[A\n",
      "\u001b[A\n",
      "\u001b[A\n",
      "\u001b[A\n",
      "\u001b[A\n",
      "\u001b[A\n",
      "\u001b[A\n",
      "\u001b[A\n",
      "\u001b[A\n",
      "\u001b[A\n",
      "\u001b[A\n",
      "\u001b[A\n",
      "\u001b[A\n",
      "\u001b[A\n",
      "\u001b[A\n",
      "\u001b[A\n",
      "\u001b[A\n",
      "\u001b[A\n",
      "\u001b[A\n",
      "\u001b[A\n",
      "\u001b[A\n",
      "\u001b[A\n",
      "\u001b[A\n",
      "\u001b[A\n",
      "\u001b[A\n",
      "\u001b[A\n",
      "\u001b[A\n",
      "\u001b[A\n",
      "\u001b[A\n",
      "\u001b[A\n",
      "\u001b[A\n",
      "\u001b[A\n",
      "\u001b[A\n",
      "\u001b[A\n",
      "\u001b[A\n",
      "\u001b[A\n",
      "\u001b[A\n",
      "\u001b[A\n",
      "\u001b[A\n",
      "\u001b[A\n",
      "\u001b[A\n",
      "\u001b[A\n",
      "\u001b[A\n",
      "\u001b[A\n",
      "\u001b[A\n",
      "\u001b[A\n",
      "\u001b[A\n",
      "\u001b[A\n",
      "\u001b[A\n",
      "\u001b[A\n",
      "\u001b[A\n",
      "\u001b[A\n",
      "\u001b[A\n",
      "\u001b[A\n",
      "\u001b[A\n",
      "\u001b[A\n",
      "\u001b[A\n",
      "\u001b[A\n",
      "\u001b[A\n",
      "\u001b[A\n",
      "\u001b[A\n",
      "\u001b[A\n",
      "\u001b[A\n",
      "\u001b[A\n",
      "\u001b[A\n",
      "\u001b[A\n",
      "\u001b[A\n",
      "\u001b[A\n",
      "\u001b[A\n",
      "\u001b[A\n",
      "\u001b[A\n",
      "\u001b[A\n",
      "\u001b[A\n",
      "\u001b[A\n",
      "\u001b[A\n",
      "\u001b[A\n",
      "\u001b[A\n",
      "\u001b[A\n",
      "\u001b[A\n",
      "\u001b[A\n",
      "Selecting Coreset Indices.: 100%|██████████| 6272/6272 [00:16<00:00, 386.89it/s]\n"
     ]
    },
    {
     "name": "stdout",
     "output_type": "stream",
     "text": [
      "Epoch 0: 100%|██████████| 5/5 [00:17<00:00,  0.28it/s, v_num=tzqr]"
     ]
    },
    {
     "name": "stderr",
     "output_type": "stream",
     "text": [
      "`Trainer.fit` stopped: `max_epochs=1` reached.\n"
     ]
    },
    {
     "name": "stdout",
     "output_type": "stream",
     "text": [
      "Epoch 0: 100%|██████████| 5/5 [00:17<00:00,  0.28it/s, v_num=tzqr]\n"
     ]
    },
    {
     "name": "stderr",
     "output_type": "stream",
     "text": [
      "The following callbacks returned in `LightningModule.configure_callbacks` will override existing callbacks passed to Trainer: Evaluator, PostProcessor, PreProcessor\n",
      "/Users/zideng/mamba/envs/ml/lib/python3.13/site-packages/lightning/pytorch/trainer/connectors/data_connector.py:425: The 'test_dataloader' does not have many workers which may be a bottleneck. Consider increasing the value of the `num_workers` argument` to `num_workers=9` in the `DataLoader` to improve performance.\n"
     ]
    },
    {
     "name": "stdout",
     "output_type": "stream",
     "text": [
      "\n",
      "🧪 Running evaluation with wandb logging...\n",
      "Testing DataLoader 0: 100%|██████████| 7/7 [00:00<00:00,  8.23it/s]\n"
     ]
    },
    {
     "data": {
      "text/html": [
       "<pre style=\"white-space:pre;overflow-x:auto;line-height:normal;font-family:Menlo,'DejaVu Sans Mono',consolas,'Courier New',monospace\">┏━━━━━━━━━━━━━━━━━━━━━━━━━━━┳━━━━━━━━━━━━━━━━━━━━━━━━━━━┓\n",
       "┃<span style=\"font-weight: bold\">        Test metric        </span>┃<span style=\"font-weight: bold\">       DataLoader 0        </span>┃\n",
       "┡━━━━━━━━━━━━━━━━━━━━━━━━━━━╇━━━━━━━━━━━━━━━━━━━━━━━━━━━┩\n",
       "│<span style=\"color: #008080; text-decoration-color: #008080\">        image_AUROC        </span>│<span style=\"color: #800080; text-decoration-color: #800080\">     0.628000020980835     </span>│\n",
       "│<span style=\"color: #008080; text-decoration-color: #008080\">       image_F1Score       </span>│<span style=\"color: #800080; text-decoration-color: #800080\">    0.9523809552192688     </span>│\n",
       "└───────────────────────────┴───────────────────────────┘\n",
       "</pre>\n"
      ],
      "text/plain": [
       "┏━━━━━━━━━━━━━━━━━━━━━━━━━━━┳━━━━━━━━━━━━━━━━━━━━━━━━━━━┓\n",
       "┃\u001b[1m \u001b[0m\u001b[1m       Test metric       \u001b[0m\u001b[1m \u001b[0m┃\u001b[1m \u001b[0m\u001b[1m      DataLoader 0       \u001b[0m\u001b[1m \u001b[0m┃\n",
       "┡━━━━━━━━━━━━━━━━━━━━━━━━━━━╇━━━━━━━━━━━━━━━━━━━━━━━━━━━┩\n",
       "│\u001b[36m \u001b[0m\u001b[36m       image_AUROC       \u001b[0m\u001b[36m \u001b[0m│\u001b[35m \u001b[0m\u001b[35m    0.628000020980835    \u001b[0m\u001b[35m \u001b[0m│\n",
       "│\u001b[36m \u001b[0m\u001b[36m      image_F1Score      \u001b[0m\u001b[36m \u001b[0m│\u001b[35m \u001b[0m\u001b[35m   0.9523809552192688    \u001b[0m\u001b[35m \u001b[0m│\n",
       "└───────────────────────────┴───────────────────────────┘\n"
      ]
     },
     "metadata": {},
     "output_type": "display_data"
    },
    {
     "name": "stdout",
     "output_type": "stream",
     "text": [
      "Threshold Value       : 23.215326\n",
      "Threshold Type        : PostProcessor\n",
      "\n",
      "💡 MODEL CONFIGURATION:\n",
      "==================================================\n"
     ]
    },
    {
     "data": {
      "text/plain": [
       "\"backbone\":               resnet18\n",
       "\"coreset_sampling_ratio\": 0.1\n",
       "\"evaluator\":              True\n",
       "\"layers\":                 ['layer2', 'layer3']\n",
       "\"num_neighbors\":          12\n",
       "\"post_processor\":         True\n",
       "\"pre_processor\":          True\n",
       "\"pre_trained\":            True\n",
       "\"visualizer\":             False"
      ]
     },
     "metadata": {},
     "output_type": "display_data"
    },
    {
     "name": "stdout",
     "output_type": "stream",
     "text": [
      "Time taken           : 19.36 seconds\n",
      "\n",
      "📈 BASIC TEST RESULTS:\n",
      "image_AUROC         : 0.628000\n",
      "image_F1Score       : 0.952381\n",
      "\n",
      "⏱️  Training completed in: 19.36 seconds\n",
      "🌐 View results at: https://wandb.ai/zkdeng-university-of-arizona/spider-anomaly-detection-test2/runs/llf9tzqr\n"
     ]
    }
   ],
   "source": [
    "# TRAINING WITH WANDB LOGGING INTEGRATION - FIXED VERSION\n",
    "import warnings\n",
    "import time\n",
    "warnings.filterwarnings(\"ignore\", category=UserWarning, module=\"torchmetrics\")\n",
    "\n",
    "start_time = time.time()\n",
    "\n",
    "# Create model (same as before)\n",
    "model = Patchcore(\n",
    "    backbone=\"resnet18\",\n",
    "    layers=[\"layer2\", \"layer3\"],\n",
    "    pre_trained=True,\n",
    "    coreset_sampling_ratio=0.10,\n",
    "    num_neighbors=12,\n",
    "    visualizer=False,\n",
    ")\n",
    "\n",
    "# Create engine WITH wandb logger integration\n",
    "engine = Engine(\n",
    "    max_epochs=1, \n",
    "    accelerator=\"auto\", \n",
    "    devices=1,\n",
    "    logger=wandb_logger,  # 🔥 Add wandb logger here!\n",
    "    enable_progress_bar=True,\n",
    "    log_every_n_steps=1,  # Log metrics every step\n",
    "    enable_checkpointing=True,  # Save model checkpoints to wandb\n",
    ")\n",
    "\n",
    "print(\"🚀 Starting training with wandb logging...\")\n",
    "engine.fit(datamodule=dm, model=model)\n",
    "\n",
    "print(\"\\n🧪 Running evaluation with wandb logging...\")\n",
    "test_results = engine.test(datamodule=dm, model=model)\n",
    "\n",
    "post_processor = model.post_processor\n",
    "\n",
    "# Check different possible threshold attributes\n",
    "threshold_value = None\n",
    "threshold_attrs = ['threshold', 'threshold_', 'image_threshold', 'pixel_threshold']\n",
    "\n",
    "for attr in threshold_attrs:\n",
    "    if hasattr(post_processor, attr):\n",
    "        threshold_value = getattr(post_processor, attr)\n",
    "        #print(f\"Optimal Decision Threshold: {threshold_value}\")\n",
    "        #print(f\"Threshold Attribute: {attr}\")\n",
    "        break\n",
    "\n",
    "if threshold_value is None:\n",
    "    print(\"🔍 Available post_processor attributes:\")\n",
    "    print([attr for attr in dir(post_processor) if not attr.startswith('_')])\n",
    "    print(\"Threshold not found in standard attributes\")\n",
    "\n",
    "#print(f\"📊 Threshold Method: {type(post_processor).__name__}\")\n",
    "\n",
    "#print(\"\\n📈 DETAILED PERFORMANCE METRICS:\")\n",
    "#print(\"=\" * 50)\n",
    "# for metric, value in test_results[0].items():\n",
    "#     print(f\"{metric:25s}: {value:.6f}\")\n",
    "\n",
    "#print(f\"\\n🎯 OPTIMAL THRESHOLD DETAILS:\")\n",
    "#print(\"=\" * 50)\n",
    "if threshold_value is not None:\n",
    "    print(f\"Threshold Value       : {threshold_value:.6f}\")\n",
    "else:\n",
    "    print(f\"Threshold Value       : Not accessible\")\n",
    "print(f\"Threshold Type        : {type(post_processor).__name__}\")\n",
    "\n",
    "if hasattr(post_processor, 'normalization_method'):\n",
    "    print(f\"Normalization Method  : {post_processor.normalization_method}\")\n",
    "    \n",
    "print(f\"\\n💡 MODEL CONFIGURATION:\")\n",
    "print(\"=\" * 50)\n",
    "\n",
    "# Access model configuration safely through hparams or config\n",
    "if hasattr(model, 'hparams'):\n",
    "    config = model.hparams\n",
    "    display(config)\n",
    "else:\n",
    "    # Fallback: show available attributes\n",
    "    print(\"Model attributes (first 10):\")\n",
    "    attrs = [attr for attr in dir(model) if not attr.startswith('_')][:10]\n",
    "    print(attrs)\n",
    "    print(\"Standard configuration attributes not accessible\")\n",
    "print(f\"Time taken           : {time.time() - start_time:.2f} seconds\")\n",
    "\n",
    "\n",
    "# Log basic test results to wandb\n",
    "basic_metrics = {\n",
    "    \"test/image_AUROC\": test_results[0].get(\"image_AUROC\", 0),\n",
    "    \"test/image_F1Score\": test_results[0].get(\"image_F1Score\", 0),\n",
    "    \"test/threshold_value\": threshold_value,\n",
    "    \"test/threshold_type\": type(post_processor).__name__,\n",
    "    \"test/model_configuration\": config,\n",
    "    \"training/duration_seconds\": time.time() - start_time,\n",
    "}\n",
    "\n",
    "# Use wandb directly for logging instead of wandb_logger.experiment\n",
    "wandb.log(basic_metrics)\n",
    "\n",
    "print(f\"\\n📈 BASIC TEST RESULTS:\")\n",
    "for metric, value in test_results[0].items():\n",
    "    print(f\"{metric:20s}: {value:.6f}\")\n",
    "\n",
    "print(f\"\\n⏱️  Training completed in: {time.time() - start_time:.2f} seconds\")\n",
    "print(f\"🌐 View results at: {wandb.run.url}\")\n"
   ]
  },
  {
   "cell_type": "code",
   "execution_count": null,
   "id": "4a0940f3",
   "metadata": {},
   "outputs": [],
   "source": [
    "# TRAINING WITH WANDB LOGGING INTEGRATION\n",
    "import warnings\n",
    "import time\n",
    "warnings.filterwarnings(\"ignore\", category=UserWarning, module=\"torchmetrics\")\n",
    "\n",
    "start_time = time.time()\n",
    "\n",
    "# Create model (same as before)\n",
    "model = Patchcore(\n",
    "    backbone=\"resnet18\",\n",
    "    layers=[\"layer2\", \"layer3\"],\n",
    "    pre_trained=True,\n",
    "    coreset_sampling_ratio=0.10,\n",
    "    num_neighbors=12,\n",
    "    visualizer=False,\n",
    ")\n",
    "\n",
    "# Create engine WITH wandb logger integration\n",
    "engine = Engine(\n",
    "    max_epochs=1, \n",
    "    accelerator=\"auto\", \n",
    "    devices=1,\n",
    "    logger=wandb_logger,  # 🔥 Add wandb logger here!\n",
    "    enable_progress_bar=True,\n",
    "    log_every_n_steps=1,  # Log metrics every step\n",
    "    enable_checkpointing=True,  # Save model checkpoints to wandb\n",
    ")\n",
    "\n",
    "print(\"🚀 Starting training with wandb logging...\")\n",
    "engine.fit(datamodule=dm, model=model)\n",
    "\n",
    "print(\"\\n🧪 Running evaluation with wandb logging...\")\n",
    "test_results = engine.test(datamodule=dm, model=model)\n",
    "\n",
    "# Log basic test results to wandb\n",
    "basic_metrics = {\n",
    "    \"test/image_AUROC\": test_results[0].get(\"image_AUROC\", 0),\n",
    "    \"test/image_F1Score\": test_results[0].get(\"image_F1Score\", 0),\n",
    "    \"training/duration_seconds\": time.time() - start_time,\n",
    "}\n",
    "\n",
    "wandb_logger.experiment.log(basic_metrics)\n",
    "\n",
    "print(f\"\\n📈 BASIC TEST RESULTS:\")\n",
    "for metric, value in test_results[0].items():\n",
    "    print(f\"{metric:20s}: {value:.6f}\")\n",
    "\n",
    "print(f\"\\n⏱️  Training completed in: {time.time() - start_time:.2f} seconds\")\n",
    "print(f\"🌐 View results at: {wandb_logger.experiment.url}\")\n"
   ]
  },
  {
   "cell_type": "code",
   "execution_count": 44,
   "id": "9495b724",
   "metadata": {},
   "outputs": [
    {
     "name": "stderr",
     "output_type": "stream",
     "text": [
      "ckpt_path is not provided. Model weights will not be loaded.\n",
      "The following callbacks returned in `LightningModule.configure_callbacks` will override existing callbacks passed to Trainer: Evaluator, ImageVisualizer, PostProcessor, PreProcessor\n"
     ]
    },
    {
     "name": "stdout",
     "output_type": "stream",
     "text": [
      "🔄 Running detailed analysis for wandb logging...\n",
      "🔬 PERFORMING PROPER ANOMALIB EVALUATION...\n",
      "============================================================\n",
      "Processing 7 batches...\n",
      "Batch 1/7\n",
      "Batch type: <class 'anomalib.data.dataclasses.torch.image.ImageBatch'>\n",
      "Batch attributes: ['image', 'gt_label', 'gt_mask', 'mask_path', 'anomaly_map', 'pred_score', 'pred_mask', 'pred_label', 'explanation', 'image_path']\n",
      "  ✅ Found labels in batch.gt_label\n",
      "  Image tensor shape: torch.Size([16, 3, 256, 256])\n"
     ]
    },
    {
     "name": "stderr",
     "output_type": "stream",
     "text": [
      "/Users/zideng/mamba/envs/ml/lib/python3.13/site-packages/lightning/pytorch/trainer/connectors/data_connector.py:425: The 'predict_dataloader' does not have many workers which may be a bottleneck. Consider increasing the value of the `num_workers` argument` to `num_workers=9` in the `DataLoader` to improve performance.\n"
     ]
    },
    {
     "name": "stdout",
     "output_type": "stream",
     "text": [
      "Predicting DataLoader 0:  14%|█▍        | 1/7 [00:00<00:05,  1.03it/s]"
     ]
    },
    {
     "name": "stderr",
     "output_type": "stream",
     "text": [
      "Field 'gt_mask' is None in ImageItem. Skipping visualization.\n",
      "Field 'gt_mask' is None in ImageItem. Skipping visualization.\n",
      "Field 'gt_mask' is None in ImageItem. Skipping visualization.\n",
      "Field 'gt_mask' is None in ImageItem. Skipping visualization.\n",
      "Field 'gt_mask' is None in ImageItem. Skipping visualization.\n",
      "Field 'gt_mask' is None in ImageItem. Skipping visualization.\n",
      "Field 'gt_mask' is None in ImageItem. Skipping visualization.\n",
      "Field 'gt_mask' is None in ImageItem. Skipping visualization.\n",
      "Field 'gt_mask' is None in ImageItem. Skipping visualization.\n",
      "Field 'gt_mask' is None in ImageItem. Skipping visualization.\n",
      "Field 'gt_mask' is None in ImageItem. Skipping visualization.\n",
      "Field 'gt_mask' is None in ImageItem. Skipping visualization.\n",
      "Field 'gt_mask' is None in ImageItem. Skipping visualization.\n",
      "Field 'gt_mask' is None in ImageItem. Skipping visualization.\n",
      "Field 'gt_mask' is None in ImageItem. Skipping visualization.\n",
      "Field 'gt_mask' is None in ImageItem. Skipping visualization.\n"
     ]
    },
    {
     "name": "stdout",
     "output_type": "stream",
     "text": [
      "Predicting DataLoader 0:  29%|██▊       | 2/7 [00:01<00:03,  1.54it/s]"
     ]
    },
    {
     "name": "stderr",
     "output_type": "stream",
     "text": [
      "Field 'gt_mask' is None in ImageItem. Skipping visualization.\n",
      "Field 'gt_mask' is None in ImageItem. Skipping visualization.\n",
      "Field 'gt_mask' is None in ImageItem. Skipping visualization.\n",
      "Field 'gt_mask' is None in ImageItem. Skipping visualization.\n",
      "Field 'gt_mask' is None in ImageItem. Skipping visualization.\n",
      "Field 'gt_mask' is None in ImageItem. Skipping visualization.\n",
      "Field 'gt_mask' is None in ImageItem. Skipping visualization.\n",
      "Field 'gt_mask' is None in ImageItem. Skipping visualization.\n",
      "Field 'gt_mask' is None in ImageItem. Skipping visualization.\n",
      "Field 'gt_mask' is None in ImageItem. Skipping visualization.\n",
      "Field 'gt_mask' is None in ImageItem. Skipping visualization.\n",
      "Field 'gt_mask' is None in ImageItem. Skipping visualization.\n",
      "Field 'gt_mask' is None in ImageItem. Skipping visualization.\n",
      "Field 'gt_mask' is None in ImageItem. Skipping visualization.\n",
      "Field 'gt_mask' is None in ImageItem. Skipping visualization.\n",
      "Field 'gt_mask' is None in ImageItem. Skipping visualization.\n"
     ]
    },
    {
     "name": "stdout",
     "output_type": "stream",
     "text": [
      "Predicting DataLoader 0:  43%|████▎     | 3/7 [00:01<00:02,  1.83it/s]"
     ]
    },
    {
     "name": "stderr",
     "output_type": "stream",
     "text": [
      "Field 'gt_mask' is None in ImageItem. Skipping visualization.\n",
      "Field 'gt_mask' is None in ImageItem. Skipping visualization.\n",
      "Field 'gt_mask' is None in ImageItem. Skipping visualization.\n",
      "Field 'gt_mask' is None in ImageItem. Skipping visualization.\n",
      "Field 'gt_mask' is None in ImageItem. Skipping visualization.\n",
      "Field 'gt_mask' is None in ImageItem. Skipping visualization.\n",
      "Field 'gt_mask' is None in ImageItem. Skipping visualization.\n",
      "Field 'gt_mask' is None in ImageItem. Skipping visualization.\n",
      "Field 'gt_mask' is None in ImageItem. Skipping visualization.\n",
      "Field 'gt_mask' is None in ImageItem. Skipping visualization.\n",
      "Field 'gt_mask' is None in ImageItem. Skipping visualization.\n",
      "Field 'gt_mask' is None in ImageItem. Skipping visualization.\n",
      "Field 'gt_mask' is None in ImageItem. Skipping visualization.\n",
      "Field 'gt_mask' is None in ImageItem. Skipping visualization.\n",
      "Field 'gt_mask' is None in ImageItem. Skipping visualization.\n",
      "Field 'gt_mask' is None in ImageItem. Skipping visualization.\n"
     ]
    },
    {
     "name": "stdout",
     "output_type": "stream",
     "text": [
      "Predicting DataLoader 0:  57%|█████▋    | 4/7 [00:01<00:01,  2.03it/s]"
     ]
    },
    {
     "name": "stderr",
     "output_type": "stream",
     "text": [
      "Field 'gt_mask' is None in ImageItem. Skipping visualization.\n",
      "Field 'gt_mask' is None in ImageItem. Skipping visualization.\n",
      "Field 'gt_mask' is None in ImageItem. Skipping visualization.\n",
      "Field 'gt_mask' is None in ImageItem. Skipping visualization.\n",
      "Field 'gt_mask' is None in ImageItem. Skipping visualization.\n",
      "Field 'gt_mask' is None in ImageItem. Skipping visualization.\n",
      "Field 'gt_mask' is None in ImageItem. Skipping visualization.\n",
      "Field 'gt_mask' is None in ImageItem. Skipping visualization.\n",
      "Field 'gt_mask' is None in ImageItem. Skipping visualization.\n",
      "Field 'gt_mask' is None in ImageItem. Skipping visualization.\n",
      "Field 'gt_mask' is None in ImageItem. Skipping visualization.\n",
      "Field 'gt_mask' is None in ImageItem. Skipping visualization.\n",
      "Field 'gt_mask' is None in ImageItem. Skipping visualization.\n",
      "Field 'gt_mask' is None in ImageItem. Skipping visualization.\n",
      "Field 'gt_mask' is None in ImageItem. Skipping visualization.\n",
      "Field 'gt_mask' is None in ImageItem. Skipping visualization.\n"
     ]
    },
    {
     "name": "stdout",
     "output_type": "stream",
     "text": [
      "Predicting DataLoader 0:  71%|███████▏  | 5/7 [00:02<00:00,  2.14it/s]"
     ]
    },
    {
     "name": "stderr",
     "output_type": "stream",
     "text": [
      "Field 'gt_mask' is None in ImageItem. Skipping visualization.\n",
      "Field 'gt_mask' is None in ImageItem. Skipping visualization.\n",
      "Field 'gt_mask' is None in ImageItem. Skipping visualization.\n",
      "Field 'gt_mask' is None in ImageItem. Skipping visualization.\n",
      "Field 'gt_mask' is None in ImageItem. Skipping visualization.\n",
      "Field 'gt_mask' is None in ImageItem. Skipping visualization.\n",
      "Field 'gt_mask' is None in ImageItem. Skipping visualization.\n",
      "Field 'gt_mask' is None in ImageItem. Skipping visualization.\n",
      "Field 'gt_mask' is None in ImageItem. Skipping visualization.\n",
      "Field 'gt_mask' is None in ImageItem. Skipping visualization.\n",
      "Field 'gt_mask' is None in ImageItem. Skipping visualization.\n",
      "Field 'gt_mask' is None in ImageItem. Skipping visualization.\n",
      "Field 'gt_mask' is None in ImageItem. Skipping visualization.\n",
      "Field 'gt_mask' is None in ImageItem. Skipping visualization.\n",
      "Field 'gt_mask' is None in ImageItem. Skipping visualization.\n",
      "Field 'gt_mask' is None in ImageItem. Skipping visualization.\n"
     ]
    },
    {
     "name": "stdout",
     "output_type": "stream",
     "text": [
      "Predicting DataLoader 0:  86%|████████▌ | 6/7 [00:02<00:00,  2.22it/s]"
     ]
    },
    {
     "name": "stderr",
     "output_type": "stream",
     "text": [
      "Field 'gt_mask' is None in ImageItem. Skipping visualization.\n",
      "Field 'gt_mask' is None in ImageItem. Skipping visualization.\n",
      "Field 'gt_mask' is None in ImageItem. Skipping visualization.\n",
      "Field 'gt_mask' is None in ImageItem. Skipping visualization.\n",
      "Field 'gt_mask' is None in ImageItem. Skipping visualization.\n",
      "Field 'gt_mask' is None in ImageItem. Skipping visualization.\n",
      "Field 'gt_mask' is None in ImageItem. Skipping visualization.\n",
      "Field 'gt_mask' is None in ImageItem. Skipping visualization.\n",
      "Field 'gt_mask' is None in ImageItem. Skipping visualization.\n",
      "Field 'gt_mask' is None in ImageItem. Skipping visualization.\n",
      "Field 'gt_mask' is None in ImageItem. Skipping visualization.\n",
      "Field 'gt_mask' is None in ImageItem. Skipping visualization.\n",
      "Field 'gt_mask' is None in ImageItem. Skipping visualization.\n",
      "Field 'gt_mask' is None in ImageItem. Skipping visualization.\n",
      "Field 'gt_mask' is None in ImageItem. Skipping visualization.\n",
      "Field 'gt_mask' is None in ImageItem. Skipping visualization.\n"
     ]
    },
    {
     "name": "stdout",
     "output_type": "stream",
     "text": [
      "Predicting DataLoader 0: 100%|██████████| 7/7 [00:03<00:00,  2.32it/s]"
     ]
    },
    {
     "name": "stderr",
     "output_type": "stream",
     "text": [
      "Field 'gt_mask' is None in ImageItem. Skipping visualization.\n",
      "Field 'gt_mask' is None in ImageItem. Skipping visualization.\n",
      "Field 'gt_mask' is None in ImageItem. Skipping visualization.\n",
      "Field 'gt_mask' is None in ImageItem. Skipping visualization.\n",
      "Field 'gt_mask' is None in ImageItem. Skipping visualization.\n",
      "Field 'gt_mask' is None in ImageItem. Skipping visualization.\n",
      "Field 'gt_mask' is None in ImageItem. Skipping visualization.\n",
      "Field 'gt_mask' is None in ImageItem. Skipping visualization.\n",
      "Field 'gt_mask' is None in ImageItem. Skipping visualization.\n",
      "Field 'gt_mask' is None in ImageItem. Skipping visualization.\n",
      "Field 'gt_mask' is None in ImageItem. Skipping visualization.\n",
      "Field 'gt_mask' is None in ImageItem. Skipping visualization.\n",
      "Field 'gt_mask' is None in ImageItem. Skipping visualization.\n",
      "Field 'gt_mask' is None in ImageItem. Skipping visualization.\n"
     ]
    },
    {
     "name": "stdout",
     "output_type": "stream",
     "text": [
      "Predicting DataLoader 0: 100%|██████████| 7/7 [00:03<00:00,  2.18it/s]\n"
     ]
    },
    {
     "name": "stderr",
     "output_type": "stream",
     "text": [
      "ckpt_path is not provided. Model weights will not be loaded.\n",
      "The following callbacks returned in `LightningModule.configure_callbacks` will override existing callbacks passed to Trainer: Evaluator, ImageVisualizer, PostProcessor, PreProcessor\n"
     ]
    },
    {
     "name": "stdout",
     "output_type": "stream",
     "text": [
      "  ✅ Used engine.predict successfully\n",
      "Model output type: <class 'anomalib.data.dataclasses.torch.image.ImageBatch'>\n",
      "Output attributes: ['image', 'gt_label', 'gt_mask', 'mask_path', 'anomaly_map', 'pred_score', 'pred_mask', 'pred_label', 'explanation', 'image_path']\n",
      "❌ Unexpected output format: <class 'anomalib.data.dataclasses.torch.image.ImageBatch'>\n",
      "Batch 2/7\n",
      "  ✅ Found labels in batch.gt_label\n",
      "  Image tensor shape: torch.Size([16, 3, 256, 256])\n",
      "Predicting DataLoader 0:  14%|█▍        | 1/7 [00:00<00:00, 20.57it/s]"
     ]
    },
    {
     "name": "stderr",
     "output_type": "stream",
     "text": [
      "Field 'gt_mask' is None in ImageItem. Skipping visualization.\n",
      "Field 'gt_mask' is None in ImageItem. Skipping visualization.\n",
      "Field 'gt_mask' is None in ImageItem. Skipping visualization.\n",
      "Field 'gt_mask' is None in ImageItem. Skipping visualization.\n",
      "Field 'gt_mask' is None in ImageItem. Skipping visualization.\n",
      "Field 'gt_mask' is None in ImageItem. Skipping visualization.\n",
      "Field 'gt_mask' is None in ImageItem. Skipping visualization.\n",
      "Field 'gt_mask' is None in ImageItem. Skipping visualization.\n",
      "Field 'gt_mask' is None in ImageItem. Skipping visualization.\n",
      "Field 'gt_mask' is None in ImageItem. Skipping visualization.\n",
      "Field 'gt_mask' is None in ImageItem. Skipping visualization.\n",
      "Field 'gt_mask' is None in ImageItem. Skipping visualization.\n",
      "Field 'gt_mask' is None in ImageItem. Skipping visualization.\n",
      "Field 'gt_mask' is None in ImageItem. Skipping visualization.\n",
      "Field 'gt_mask' is None in ImageItem. Skipping visualization.\n",
      "Field 'gt_mask' is None in ImageItem. Skipping visualization.\n"
     ]
    },
    {
     "name": "stdout",
     "output_type": "stream",
     "text": [
      "Predicting DataLoader 0:  29%|██▊       | 2/7 [00:00<00:00,  5.59it/s]"
     ]
    },
    {
     "name": "stderr",
     "output_type": "stream",
     "text": [
      "Field 'gt_mask' is None in ImageItem. Skipping visualization.\n",
      "Field 'gt_mask' is None in ImageItem. Skipping visualization.\n",
      "Field 'gt_mask' is None in ImageItem. Skipping visualization.\n",
      "Field 'gt_mask' is None in ImageItem. Skipping visualization.\n",
      "Field 'gt_mask' is None in ImageItem. Skipping visualization.\n",
      "Field 'gt_mask' is None in ImageItem. Skipping visualization.\n",
      "Field 'gt_mask' is None in ImageItem. Skipping visualization.\n",
      "Field 'gt_mask' is None in ImageItem. Skipping visualization.\n",
      "Field 'gt_mask' is None in ImageItem. Skipping visualization.\n",
      "Field 'gt_mask' is None in ImageItem. Skipping visualization.\n",
      "Field 'gt_mask' is None in ImageItem. Skipping visualization.\n",
      "Field 'gt_mask' is None in ImageItem. Skipping visualization.\n",
      "Field 'gt_mask' is None in ImageItem. Skipping visualization.\n",
      "Field 'gt_mask' is None in ImageItem. Skipping visualization.\n",
      "Field 'gt_mask' is None in ImageItem. Skipping visualization.\n",
      "Field 'gt_mask' is None in ImageItem. Skipping visualization.\n"
     ]
    },
    {
     "name": "stdout",
     "output_type": "stream",
     "text": [
      "Predicting DataLoader 0:  43%|████▎     | 3/7 [00:00<00:00,  4.50it/s]"
     ]
    },
    {
     "name": "stderr",
     "output_type": "stream",
     "text": [
      "Field 'gt_mask' is None in ImageItem. Skipping visualization.\n",
      "Field 'gt_mask' is None in ImageItem. Skipping visualization.\n",
      "Field 'gt_mask' is None in ImageItem. Skipping visualization.\n",
      "Field 'gt_mask' is None in ImageItem. Skipping visualization.\n",
      "Field 'gt_mask' is None in ImageItem. Skipping visualization.\n",
      "Field 'gt_mask' is None in ImageItem. Skipping visualization.\n",
      "Field 'gt_mask' is None in ImageItem. Skipping visualization.\n",
      "Field 'gt_mask' is None in ImageItem. Skipping visualization.\n",
      "Field 'gt_mask' is None in ImageItem. Skipping visualization.\n",
      "Field 'gt_mask' is None in ImageItem. Skipping visualization.\n",
      "Field 'gt_mask' is None in ImageItem. Skipping visualization.\n",
      "Field 'gt_mask' is None in ImageItem. Skipping visualization.\n",
      "Field 'gt_mask' is None in ImageItem. Skipping visualization.\n",
      "Field 'gt_mask' is None in ImageItem. Skipping visualization.\n",
      "Field 'gt_mask' is None in ImageItem. Skipping visualization.\n",
      "Field 'gt_mask' is None in ImageItem. Skipping visualization.\n"
     ]
    },
    {
     "name": "stdout",
     "output_type": "stream",
     "text": [
      "Predicting DataLoader 0:  57%|█████▋    | 4/7 [00:00<00:00,  4.00it/s]"
     ]
    },
    {
     "name": "stderr",
     "output_type": "stream",
     "text": [
      "Field 'gt_mask' is None in ImageItem. Skipping visualization.\n",
      "Field 'gt_mask' is None in ImageItem. Skipping visualization.\n",
      "Field 'gt_mask' is None in ImageItem. Skipping visualization.\n",
      "Field 'gt_mask' is None in ImageItem. Skipping visualization.\n",
      "Field 'gt_mask' is None in ImageItem. Skipping visualization.\n",
      "Field 'gt_mask' is None in ImageItem. Skipping visualization.\n",
      "Field 'gt_mask' is None in ImageItem. Skipping visualization.\n",
      "Field 'gt_mask' is None in ImageItem. Skipping visualization.\n",
      "Field 'gt_mask' is None in ImageItem. Skipping visualization.\n",
      "Field 'gt_mask' is None in ImageItem. Skipping visualization.\n",
      "Field 'gt_mask' is None in ImageItem. Skipping visualization.\n",
      "Field 'gt_mask' is None in ImageItem. Skipping visualization.\n",
      "Field 'gt_mask' is None in ImageItem. Skipping visualization.\n",
      "Field 'gt_mask' is None in ImageItem. Skipping visualization.\n",
      "Field 'gt_mask' is None in ImageItem. Skipping visualization.\n",
      "Field 'gt_mask' is None in ImageItem. Skipping visualization.\n"
     ]
    },
    {
     "name": "stdout",
     "output_type": "stream",
     "text": [
      "Predicting DataLoader 0:  71%|███████▏  | 5/7 [00:01<00:00,  3.59it/s]"
     ]
    },
    {
     "name": "stderr",
     "output_type": "stream",
     "text": [
      "Field 'gt_mask' is None in ImageItem. Skipping visualization.\n",
      "Field 'gt_mask' is None in ImageItem. Skipping visualization.\n",
      "Field 'gt_mask' is None in ImageItem. Skipping visualization.\n",
      "Field 'gt_mask' is None in ImageItem. Skipping visualization.\n",
      "Field 'gt_mask' is None in ImageItem. Skipping visualization.\n",
      "Field 'gt_mask' is None in ImageItem. Skipping visualization.\n",
      "Field 'gt_mask' is None in ImageItem. Skipping visualization.\n",
      "Field 'gt_mask' is None in ImageItem. Skipping visualization.\n",
      "Field 'gt_mask' is None in ImageItem. Skipping visualization.\n",
      "Field 'gt_mask' is None in ImageItem. Skipping visualization.\n",
      "Field 'gt_mask' is None in ImageItem. Skipping visualization.\n",
      "Field 'gt_mask' is None in ImageItem. Skipping visualization.\n",
      "Field 'gt_mask' is None in ImageItem. Skipping visualization.\n",
      "Field 'gt_mask' is None in ImageItem. Skipping visualization.\n",
      "Field 'gt_mask' is None in ImageItem. Skipping visualization.\n",
      "Field 'gt_mask' is None in ImageItem. Skipping visualization.\n"
     ]
    },
    {
     "name": "stdout",
     "output_type": "stream",
     "text": [
      "Predicting DataLoader 0:  86%|████████▌ | 6/7 [00:01<00:00,  3.48it/s]"
     ]
    },
    {
     "name": "stderr",
     "output_type": "stream",
     "text": [
      "Field 'gt_mask' is None in ImageItem. Skipping visualization.\n",
      "Field 'gt_mask' is None in ImageItem. Skipping visualization.\n",
      "Field 'gt_mask' is None in ImageItem. Skipping visualization.\n",
      "Field 'gt_mask' is None in ImageItem. Skipping visualization.\n",
      "Field 'gt_mask' is None in ImageItem. Skipping visualization.\n",
      "Field 'gt_mask' is None in ImageItem. Skipping visualization.\n",
      "Field 'gt_mask' is None in ImageItem. Skipping visualization.\n",
      "Field 'gt_mask' is None in ImageItem. Skipping visualization.\n",
      "Field 'gt_mask' is None in ImageItem. Skipping visualization.\n",
      "Field 'gt_mask' is None in ImageItem. Skipping visualization.\n",
      "Field 'gt_mask' is None in ImageItem. Skipping visualization.\n",
      "Field 'gt_mask' is None in ImageItem. Skipping visualization.\n",
      "Field 'gt_mask' is None in ImageItem. Skipping visualization.\n",
      "Field 'gt_mask' is None in ImageItem. Skipping visualization.\n",
      "Field 'gt_mask' is None in ImageItem. Skipping visualization.\n",
      "Field 'gt_mask' is None in ImageItem. Skipping visualization.\n"
     ]
    },
    {
     "name": "stdout",
     "output_type": "stream",
     "text": [
      "Predicting DataLoader 0: 100%|██████████| 7/7 [00:02<00:00,  3.46it/s]"
     ]
    },
    {
     "name": "stderr",
     "output_type": "stream",
     "text": [
      "Field 'gt_mask' is None in ImageItem. Skipping visualization.\n",
      "Field 'gt_mask' is None in ImageItem. Skipping visualization.\n",
      "Field 'gt_mask' is None in ImageItem. Skipping visualization.\n",
      "Field 'gt_mask' is None in ImageItem. Skipping visualization.\n",
      "Field 'gt_mask' is None in ImageItem. Skipping visualization.\n",
      "Field 'gt_mask' is None in ImageItem. Skipping visualization.\n",
      "Field 'gt_mask' is None in ImageItem. Skipping visualization.\n",
      "Field 'gt_mask' is None in ImageItem. Skipping visualization.\n",
      "Field 'gt_mask' is None in ImageItem. Skipping visualization.\n",
      "Field 'gt_mask' is None in ImageItem. Skipping visualization.\n",
      "Field 'gt_mask' is None in ImageItem. Skipping visualization.\n",
      "Field 'gt_mask' is None in ImageItem. Skipping visualization.\n",
      "Field 'gt_mask' is None in ImageItem. Skipping visualization.\n",
      "Field 'gt_mask' is None in ImageItem. Skipping visualization.\n"
     ]
    },
    {
     "name": "stdout",
     "output_type": "stream",
     "text": [
      "Predicting DataLoader 0: 100%|██████████| 7/7 [00:02<00:00,  3.19it/s]\n"
     ]
    },
    {
     "name": "stderr",
     "output_type": "stream",
     "text": [
      "ckpt_path is not provided. Model weights will not be loaded.\n",
      "The following callbacks returned in `LightningModule.configure_callbacks` will override existing callbacks passed to Trainer: Evaluator, ImageVisualizer, PostProcessor, PreProcessor\n"
     ]
    },
    {
     "name": "stdout",
     "output_type": "stream",
     "text": [
      "  ✅ Used engine.predict successfully\n",
      "❌ Unexpected output format: <class 'anomalib.data.dataclasses.torch.image.ImageBatch'>\n",
      "Batch 3/7\n",
      "  ✅ Found labels in batch.gt_label\n",
      "  Image tensor shape: torch.Size([16, 3, 256, 256])\n",
      "Predicting DataLoader 0:  14%|█▍        | 1/7 [00:00<00:00, 19.96it/s]"
     ]
    },
    {
     "name": "stderr",
     "output_type": "stream",
     "text": [
      "Field 'gt_mask' is None in ImageItem. Skipping visualization.\n",
      "Field 'gt_mask' is None in ImageItem. Skipping visualization.\n",
      "Field 'gt_mask' is None in ImageItem. Skipping visualization.\n",
      "Field 'gt_mask' is None in ImageItem. Skipping visualization.\n",
      "Field 'gt_mask' is None in ImageItem. Skipping visualization.\n",
      "Field 'gt_mask' is None in ImageItem. Skipping visualization.\n",
      "Field 'gt_mask' is None in ImageItem. Skipping visualization.\n",
      "Field 'gt_mask' is None in ImageItem. Skipping visualization.\n",
      "Field 'gt_mask' is None in ImageItem. Skipping visualization.\n",
      "Field 'gt_mask' is None in ImageItem. Skipping visualization.\n",
      "Field 'gt_mask' is None in ImageItem. Skipping visualization.\n",
      "Field 'gt_mask' is None in ImageItem. Skipping visualization.\n",
      "Field 'gt_mask' is None in ImageItem. Skipping visualization.\n",
      "Field 'gt_mask' is None in ImageItem. Skipping visualization.\n",
      "Field 'gt_mask' is None in ImageItem. Skipping visualization.\n",
      "Field 'gt_mask' is None in ImageItem. Skipping visualization.\n"
     ]
    },
    {
     "name": "stdout",
     "output_type": "stream",
     "text": [
      "Predicting DataLoader 0:  29%|██▊       | 2/7 [00:00<00:00,  5.47it/s]"
     ]
    },
    {
     "name": "stderr",
     "output_type": "stream",
     "text": [
      "Field 'gt_mask' is None in ImageItem. Skipping visualization.\n",
      "Field 'gt_mask' is None in ImageItem. Skipping visualization.\n",
      "Field 'gt_mask' is None in ImageItem. Skipping visualization.\n",
      "Field 'gt_mask' is None in ImageItem. Skipping visualization.\n",
      "Field 'gt_mask' is None in ImageItem. Skipping visualization.\n",
      "Field 'gt_mask' is None in ImageItem. Skipping visualization.\n",
      "Field 'gt_mask' is None in ImageItem. Skipping visualization.\n",
      "Field 'gt_mask' is None in ImageItem. Skipping visualization.\n",
      "Field 'gt_mask' is None in ImageItem. Skipping visualization.\n",
      "Field 'gt_mask' is None in ImageItem. Skipping visualization.\n",
      "Field 'gt_mask' is None in ImageItem. Skipping visualization.\n",
      "Field 'gt_mask' is None in ImageItem. Skipping visualization.\n",
      "Field 'gt_mask' is None in ImageItem. Skipping visualization.\n",
      "Field 'gt_mask' is None in ImageItem. Skipping visualization.\n",
      "Field 'gt_mask' is None in ImageItem. Skipping visualization.\n",
      "Field 'gt_mask' is None in ImageItem. Skipping visualization.\n"
     ]
    },
    {
     "name": "stdout",
     "output_type": "stream",
     "text": [
      "Predicting DataLoader 0:  43%|████▎     | 3/7 [00:00<00:00,  4.40it/s]"
     ]
    },
    {
     "name": "stderr",
     "output_type": "stream",
     "text": [
      "Field 'gt_mask' is None in ImageItem. Skipping visualization.\n",
      "Field 'gt_mask' is None in ImageItem. Skipping visualization.\n",
      "Field 'gt_mask' is None in ImageItem. Skipping visualization.\n",
      "Field 'gt_mask' is None in ImageItem. Skipping visualization.\n",
      "Field 'gt_mask' is None in ImageItem. Skipping visualization.\n",
      "Field 'gt_mask' is None in ImageItem. Skipping visualization.\n",
      "Field 'gt_mask' is None in ImageItem. Skipping visualization.\n",
      "Field 'gt_mask' is None in ImageItem. Skipping visualization.\n",
      "Field 'gt_mask' is None in ImageItem. Skipping visualization.\n",
      "Field 'gt_mask' is None in ImageItem. Skipping visualization.\n",
      "Field 'gt_mask' is None in ImageItem. Skipping visualization.\n",
      "Field 'gt_mask' is None in ImageItem. Skipping visualization.\n",
      "Field 'gt_mask' is None in ImageItem. Skipping visualization.\n",
      "Field 'gt_mask' is None in ImageItem. Skipping visualization.\n",
      "Field 'gt_mask' is None in ImageItem. Skipping visualization.\n",
      "Field 'gt_mask' is None in ImageItem. Skipping visualization.\n"
     ]
    },
    {
     "name": "stdout",
     "output_type": "stream",
     "text": [
      "Predicting DataLoader 0:  57%|█████▋    | 4/7 [00:01<00:00,  3.81it/s]"
     ]
    },
    {
     "name": "stderr",
     "output_type": "stream",
     "text": [
      "Field 'gt_mask' is None in ImageItem. Skipping visualization.\n",
      "Field 'gt_mask' is None in ImageItem. Skipping visualization.\n",
      "Field 'gt_mask' is None in ImageItem. Skipping visualization.\n",
      "Field 'gt_mask' is None in ImageItem. Skipping visualization.\n",
      "Field 'gt_mask' is None in ImageItem. Skipping visualization.\n",
      "Field 'gt_mask' is None in ImageItem. Skipping visualization.\n",
      "Field 'gt_mask' is None in ImageItem. Skipping visualization.\n",
      "Field 'gt_mask' is None in ImageItem. Skipping visualization.\n",
      "Field 'gt_mask' is None in ImageItem. Skipping visualization.\n",
      "Field 'gt_mask' is None in ImageItem. Skipping visualization.\n",
      "Field 'gt_mask' is None in ImageItem. Skipping visualization.\n",
      "Field 'gt_mask' is None in ImageItem. Skipping visualization.\n",
      "Field 'gt_mask' is None in ImageItem. Skipping visualization.\n",
      "Field 'gt_mask' is None in ImageItem. Skipping visualization.\n",
      "Field 'gt_mask' is None in ImageItem. Skipping visualization.\n",
      "Field 'gt_mask' is None in ImageItem. Skipping visualization.\n"
     ]
    },
    {
     "name": "stdout",
     "output_type": "stream",
     "text": [
      "Predicting DataLoader 0:  71%|███████▏  | 5/7 [00:01<00:00,  3.57it/s]"
     ]
    },
    {
     "name": "stderr",
     "output_type": "stream",
     "text": [
      "Field 'gt_mask' is None in ImageItem. Skipping visualization.\n",
      "Field 'gt_mask' is None in ImageItem. Skipping visualization.\n",
      "Field 'gt_mask' is None in ImageItem. Skipping visualization.\n",
      "Field 'gt_mask' is None in ImageItem. Skipping visualization.\n",
      "Field 'gt_mask' is None in ImageItem. Skipping visualization.\n",
      "Field 'gt_mask' is None in ImageItem. Skipping visualization.\n",
      "Field 'gt_mask' is None in ImageItem. Skipping visualization.\n",
      "Field 'gt_mask' is None in ImageItem. Skipping visualization.\n",
      "Field 'gt_mask' is None in ImageItem. Skipping visualization.\n",
      "Field 'gt_mask' is None in ImageItem. Skipping visualization.\n",
      "Field 'gt_mask' is None in ImageItem. Skipping visualization.\n",
      "Field 'gt_mask' is None in ImageItem. Skipping visualization.\n",
      "Field 'gt_mask' is None in ImageItem. Skipping visualization.\n",
      "Field 'gt_mask' is None in ImageItem. Skipping visualization.\n",
      "Field 'gt_mask' is None in ImageItem. Skipping visualization.\n",
      "Field 'gt_mask' is None in ImageItem. Skipping visualization.\n"
     ]
    },
    {
     "name": "stdout",
     "output_type": "stream",
     "text": [
      "Predicting DataLoader 0:  86%|████████▌ | 6/7 [00:01<00:00,  3.49it/s]"
     ]
    },
    {
     "name": "stderr",
     "output_type": "stream",
     "text": [
      "Field 'gt_mask' is None in ImageItem. Skipping visualization.\n",
      "Field 'gt_mask' is None in ImageItem. Skipping visualization.\n",
      "Field 'gt_mask' is None in ImageItem. Skipping visualization.\n",
      "Field 'gt_mask' is None in ImageItem. Skipping visualization.\n",
      "Field 'gt_mask' is None in ImageItem. Skipping visualization.\n",
      "Field 'gt_mask' is None in ImageItem. Skipping visualization.\n",
      "Field 'gt_mask' is None in ImageItem. Skipping visualization.\n",
      "Field 'gt_mask' is None in ImageItem. Skipping visualization.\n",
      "Field 'gt_mask' is None in ImageItem. Skipping visualization.\n",
      "Field 'gt_mask' is None in ImageItem. Skipping visualization.\n",
      "Field 'gt_mask' is None in ImageItem. Skipping visualization.\n",
      "Field 'gt_mask' is None in ImageItem. Skipping visualization.\n",
      "Field 'gt_mask' is None in ImageItem. Skipping visualization.\n",
      "Field 'gt_mask' is None in ImageItem. Skipping visualization.\n",
      "Field 'gt_mask' is None in ImageItem. Skipping visualization.\n",
      "Field 'gt_mask' is None in ImageItem. Skipping visualization.\n"
     ]
    },
    {
     "name": "stdout",
     "output_type": "stream",
     "text": [
      "Predicting DataLoader 0: 100%|██████████| 7/7 [00:02<00:00,  3.49it/s]"
     ]
    },
    {
     "name": "stderr",
     "output_type": "stream",
     "text": [
      "Field 'gt_mask' is None in ImageItem. Skipping visualization.\n",
      "Field 'gt_mask' is None in ImageItem. Skipping visualization.\n",
      "Field 'gt_mask' is None in ImageItem. Skipping visualization.\n",
      "Field 'gt_mask' is None in ImageItem. Skipping visualization.\n",
      "Field 'gt_mask' is None in ImageItem. Skipping visualization.\n",
      "Field 'gt_mask' is None in ImageItem. Skipping visualization.\n",
      "Field 'gt_mask' is None in ImageItem. Skipping visualization.\n",
      "Field 'gt_mask' is None in ImageItem. Skipping visualization.\n",
      "Field 'gt_mask' is None in ImageItem. Skipping visualization.\n",
      "Field 'gt_mask' is None in ImageItem. Skipping visualization.\n",
      "Field 'gt_mask' is None in ImageItem. Skipping visualization.\n",
      "Field 'gt_mask' is None in ImageItem. Skipping visualization.\n",
      "Field 'gt_mask' is None in ImageItem. Skipping visualization.\n",
      "Field 'gt_mask' is None in ImageItem. Skipping visualization.\n"
     ]
    },
    {
     "name": "stdout",
     "output_type": "stream",
     "text": [
      "Predicting DataLoader 0: 100%|██████████| 7/7 [00:02<00:00,  3.21it/s]\n"
     ]
    },
    {
     "name": "stderr",
     "output_type": "stream",
     "text": [
      "ckpt_path is not provided. Model weights will not be loaded.\n",
      "The following callbacks returned in `LightningModule.configure_callbacks` will override existing callbacks passed to Trainer: Evaluator, ImageVisualizer, PostProcessor, PreProcessor\n"
     ]
    },
    {
     "name": "stdout",
     "output_type": "stream",
     "text": [
      "  ✅ Used engine.predict successfully\n",
      "❌ Unexpected output format: <class 'anomalib.data.dataclasses.torch.image.ImageBatch'>\n",
      "Batch 4/7\n",
      "  ✅ Found labels in batch.gt_label\n",
      "  Image tensor shape: torch.Size([16, 3, 256, 256])\n",
      "Predicting DataLoader 0:  14%|█▍        | 1/7 [00:00<00:00, 20.89it/s]"
     ]
    },
    {
     "name": "stderr",
     "output_type": "stream",
     "text": [
      "Field 'gt_mask' is None in ImageItem. Skipping visualization.\n",
      "Field 'gt_mask' is None in ImageItem. Skipping visualization.\n",
      "Field 'gt_mask' is None in ImageItem. Skipping visualization.\n",
      "Field 'gt_mask' is None in ImageItem. Skipping visualization.\n",
      "Field 'gt_mask' is None in ImageItem. Skipping visualization.\n",
      "Field 'gt_mask' is None in ImageItem. Skipping visualization.\n",
      "Field 'gt_mask' is None in ImageItem. Skipping visualization.\n",
      "Field 'gt_mask' is None in ImageItem. Skipping visualization.\n",
      "Field 'gt_mask' is None in ImageItem. Skipping visualization.\n",
      "Field 'gt_mask' is None in ImageItem. Skipping visualization.\n",
      "Field 'gt_mask' is None in ImageItem. Skipping visualization.\n",
      "Field 'gt_mask' is None in ImageItem. Skipping visualization.\n",
      "Field 'gt_mask' is None in ImageItem. Skipping visualization.\n",
      "Field 'gt_mask' is None in ImageItem. Skipping visualization.\n",
      "Field 'gt_mask' is None in ImageItem. Skipping visualization.\n",
      "Field 'gt_mask' is None in ImageItem. Skipping visualization.\n"
     ]
    },
    {
     "name": "stdout",
     "output_type": "stream",
     "text": [
      "Predicting DataLoader 0:  29%|██▊       | 2/7 [00:00<00:00,  5.60it/s]"
     ]
    },
    {
     "name": "stderr",
     "output_type": "stream",
     "text": [
      "Field 'gt_mask' is None in ImageItem. Skipping visualization.\n",
      "Field 'gt_mask' is None in ImageItem. Skipping visualization.\n",
      "Field 'gt_mask' is None in ImageItem. Skipping visualization.\n",
      "Field 'gt_mask' is None in ImageItem. Skipping visualization.\n",
      "Field 'gt_mask' is None in ImageItem. Skipping visualization.\n",
      "Field 'gt_mask' is None in ImageItem. Skipping visualization.\n",
      "Field 'gt_mask' is None in ImageItem. Skipping visualization.\n",
      "Field 'gt_mask' is None in ImageItem. Skipping visualization.\n",
      "Field 'gt_mask' is None in ImageItem. Skipping visualization.\n",
      "Field 'gt_mask' is None in ImageItem. Skipping visualization.\n",
      "Field 'gt_mask' is None in ImageItem. Skipping visualization.\n",
      "Field 'gt_mask' is None in ImageItem. Skipping visualization.\n",
      "Field 'gt_mask' is None in ImageItem. Skipping visualization.\n",
      "Field 'gt_mask' is None in ImageItem. Skipping visualization.\n",
      "Field 'gt_mask' is None in ImageItem. Skipping visualization.\n",
      "Field 'gt_mask' is None in ImageItem. Skipping visualization.\n"
     ]
    },
    {
     "name": "stdout",
     "output_type": "stream",
     "text": [
      "Predicting DataLoader 0:  43%|████▎     | 3/7 [00:00<00:00,  4.41it/s]"
     ]
    },
    {
     "name": "stderr",
     "output_type": "stream",
     "text": [
      "Field 'gt_mask' is None in ImageItem. Skipping visualization.\n",
      "Field 'gt_mask' is None in ImageItem. Skipping visualization.\n",
      "Field 'gt_mask' is None in ImageItem. Skipping visualization.\n",
      "Field 'gt_mask' is None in ImageItem. Skipping visualization.\n",
      "Field 'gt_mask' is None in ImageItem. Skipping visualization.\n",
      "Field 'gt_mask' is None in ImageItem. Skipping visualization.\n",
      "Field 'gt_mask' is None in ImageItem. Skipping visualization.\n",
      "Field 'gt_mask' is None in ImageItem. Skipping visualization.\n",
      "Field 'gt_mask' is None in ImageItem. Skipping visualization.\n",
      "Field 'gt_mask' is None in ImageItem. Skipping visualization.\n",
      "Field 'gt_mask' is None in ImageItem. Skipping visualization.\n",
      "Field 'gt_mask' is None in ImageItem. Skipping visualization.\n",
      "Field 'gt_mask' is None in ImageItem. Skipping visualization.\n",
      "Field 'gt_mask' is None in ImageItem. Skipping visualization.\n",
      "Field 'gt_mask' is None in ImageItem. Skipping visualization.\n",
      "Field 'gt_mask' is None in ImageItem. Skipping visualization.\n"
     ]
    },
    {
     "name": "stdout",
     "output_type": "stream",
     "text": [
      "Predicting DataLoader 0:  57%|█████▋    | 4/7 [00:01<00:00,  3.95it/s]"
     ]
    },
    {
     "name": "stderr",
     "output_type": "stream",
     "text": [
      "Field 'gt_mask' is None in ImageItem. Skipping visualization.\n",
      "Field 'gt_mask' is None in ImageItem. Skipping visualization.\n",
      "Field 'gt_mask' is None in ImageItem. Skipping visualization.\n",
      "Field 'gt_mask' is None in ImageItem. Skipping visualization.\n",
      "Field 'gt_mask' is None in ImageItem. Skipping visualization.\n",
      "Field 'gt_mask' is None in ImageItem. Skipping visualization.\n",
      "Field 'gt_mask' is None in ImageItem. Skipping visualization.\n",
      "Field 'gt_mask' is None in ImageItem. Skipping visualization.\n",
      "Field 'gt_mask' is None in ImageItem. Skipping visualization.\n",
      "Field 'gt_mask' is None in ImageItem. Skipping visualization.\n",
      "Field 'gt_mask' is None in ImageItem. Skipping visualization.\n",
      "Field 'gt_mask' is None in ImageItem. Skipping visualization.\n",
      "Field 'gt_mask' is None in ImageItem. Skipping visualization.\n",
      "Field 'gt_mask' is None in ImageItem. Skipping visualization.\n",
      "Field 'gt_mask' is None in ImageItem. Skipping visualization.\n",
      "Field 'gt_mask' is None in ImageItem. Skipping visualization.\n"
     ]
    },
    {
     "name": "stdout",
     "output_type": "stream",
     "text": [
      "Predicting DataLoader 0:  71%|███████▏  | 5/7 [00:01<00:00,  3.64it/s]"
     ]
    },
    {
     "name": "stderr",
     "output_type": "stream",
     "text": [
      "Field 'gt_mask' is None in ImageItem. Skipping visualization.\n",
      "Field 'gt_mask' is None in ImageItem. Skipping visualization.\n",
      "Field 'gt_mask' is None in ImageItem. Skipping visualization.\n",
      "Field 'gt_mask' is None in ImageItem. Skipping visualization.\n",
      "Field 'gt_mask' is None in ImageItem. Skipping visualization.\n",
      "Field 'gt_mask' is None in ImageItem. Skipping visualization.\n",
      "Field 'gt_mask' is None in ImageItem. Skipping visualization.\n",
      "Field 'gt_mask' is None in ImageItem. Skipping visualization.\n",
      "Field 'gt_mask' is None in ImageItem. Skipping visualization.\n",
      "Field 'gt_mask' is None in ImageItem. Skipping visualization.\n",
      "Field 'gt_mask' is None in ImageItem. Skipping visualization.\n",
      "Field 'gt_mask' is None in ImageItem. Skipping visualization.\n",
      "Field 'gt_mask' is None in ImageItem. Skipping visualization.\n",
      "Field 'gt_mask' is None in ImageItem. Skipping visualization.\n",
      "Field 'gt_mask' is None in ImageItem. Skipping visualization.\n",
      "Field 'gt_mask' is None in ImageItem. Skipping visualization.\n"
     ]
    },
    {
     "name": "stdout",
     "output_type": "stream",
     "text": [
      "Predicting DataLoader 0:  86%|████████▌ | 6/7 [00:01<00:00,  3.55it/s]"
     ]
    },
    {
     "name": "stderr",
     "output_type": "stream",
     "text": [
      "Field 'gt_mask' is None in ImageItem. Skipping visualization.\n",
      "Field 'gt_mask' is None in ImageItem. Skipping visualization.\n",
      "Field 'gt_mask' is None in ImageItem. Skipping visualization.\n",
      "Field 'gt_mask' is None in ImageItem. Skipping visualization.\n",
      "Field 'gt_mask' is None in ImageItem. Skipping visualization.\n",
      "Field 'gt_mask' is None in ImageItem. Skipping visualization.\n",
      "Field 'gt_mask' is None in ImageItem. Skipping visualization.\n",
      "Field 'gt_mask' is None in ImageItem. Skipping visualization.\n",
      "Field 'gt_mask' is None in ImageItem. Skipping visualization.\n",
      "Field 'gt_mask' is None in ImageItem. Skipping visualization.\n",
      "Field 'gt_mask' is None in ImageItem. Skipping visualization.\n",
      "Field 'gt_mask' is None in ImageItem. Skipping visualization.\n",
      "Field 'gt_mask' is None in ImageItem. Skipping visualization.\n",
      "Field 'gt_mask' is None in ImageItem. Skipping visualization.\n",
      "Field 'gt_mask' is None in ImageItem. Skipping visualization.\n",
      "Field 'gt_mask' is None in ImageItem. Skipping visualization.\n"
     ]
    },
    {
     "name": "stdout",
     "output_type": "stream",
     "text": [
      "Predicting DataLoader 0: 100%|██████████| 7/7 [00:01<00:00,  3.51it/s]"
     ]
    },
    {
     "name": "stderr",
     "output_type": "stream",
     "text": [
      "Field 'gt_mask' is None in ImageItem. Skipping visualization.\n",
      "Field 'gt_mask' is None in ImageItem. Skipping visualization.\n",
      "Field 'gt_mask' is None in ImageItem. Skipping visualization.\n",
      "Field 'gt_mask' is None in ImageItem. Skipping visualization.\n",
      "Field 'gt_mask' is None in ImageItem. Skipping visualization.\n",
      "Field 'gt_mask' is None in ImageItem. Skipping visualization.\n",
      "Field 'gt_mask' is None in ImageItem. Skipping visualization.\n",
      "Field 'gt_mask' is None in ImageItem. Skipping visualization.\n",
      "Field 'gt_mask' is None in ImageItem. Skipping visualization.\n",
      "Field 'gt_mask' is None in ImageItem. Skipping visualization.\n",
      "Field 'gt_mask' is None in ImageItem. Skipping visualization.\n",
      "Field 'gt_mask' is None in ImageItem. Skipping visualization.\n",
      "Field 'gt_mask' is None in ImageItem. Skipping visualization.\n",
      "Field 'gt_mask' is None in ImageItem. Skipping visualization.\n"
     ]
    },
    {
     "name": "stdout",
     "output_type": "stream",
     "text": [
      "Predicting DataLoader 0: 100%|██████████| 7/7 [00:02<00:00,  3.22it/s]\n"
     ]
    },
    {
     "name": "stderr",
     "output_type": "stream",
     "text": [
      "ckpt_path is not provided. Model weights will not be loaded.\n",
      "The following callbacks returned in `LightningModule.configure_callbacks` will override existing callbacks passed to Trainer: Evaluator, ImageVisualizer, PostProcessor, PreProcessor\n"
     ]
    },
    {
     "name": "stdout",
     "output_type": "stream",
     "text": [
      "  ✅ Used engine.predict successfully\n",
      "❌ Unexpected output format: <class 'anomalib.data.dataclasses.torch.image.ImageBatch'>\n",
      "Batch 5/7\n",
      "  ✅ Found labels in batch.gt_label\n",
      "  Image tensor shape: torch.Size([16, 3, 256, 256])\n",
      "Predicting DataLoader 0:  14%|█▍        | 1/7 [00:00<00:00, 19.27it/s]"
     ]
    },
    {
     "name": "stderr",
     "output_type": "stream",
     "text": [
      "Field 'gt_mask' is None in ImageItem. Skipping visualization.\n",
      "Field 'gt_mask' is None in ImageItem. Skipping visualization.\n",
      "Field 'gt_mask' is None in ImageItem. Skipping visualization.\n",
      "Field 'gt_mask' is None in ImageItem. Skipping visualization.\n",
      "Field 'gt_mask' is None in ImageItem. Skipping visualization.\n",
      "Field 'gt_mask' is None in ImageItem. Skipping visualization.\n",
      "Field 'gt_mask' is None in ImageItem. Skipping visualization.\n",
      "Field 'gt_mask' is None in ImageItem. Skipping visualization.\n",
      "Field 'gt_mask' is None in ImageItem. Skipping visualization.\n",
      "Field 'gt_mask' is None in ImageItem. Skipping visualization.\n",
      "Field 'gt_mask' is None in ImageItem. Skipping visualization.\n",
      "Field 'gt_mask' is None in ImageItem. Skipping visualization.\n",
      "Field 'gt_mask' is None in ImageItem. Skipping visualization.\n",
      "Field 'gt_mask' is None in ImageItem. Skipping visualization.\n",
      "Field 'gt_mask' is None in ImageItem. Skipping visualization.\n",
      "Field 'gt_mask' is None in ImageItem. Skipping visualization.\n"
     ]
    },
    {
     "name": "stdout",
     "output_type": "stream",
     "text": [
      "Predicting DataLoader 0:  29%|██▊       | 2/7 [00:00<00:00,  5.32it/s]"
     ]
    },
    {
     "name": "stderr",
     "output_type": "stream",
     "text": [
      "Field 'gt_mask' is None in ImageItem. Skipping visualization.\n",
      "Field 'gt_mask' is None in ImageItem. Skipping visualization.\n",
      "Field 'gt_mask' is None in ImageItem. Skipping visualization.\n",
      "Field 'gt_mask' is None in ImageItem. Skipping visualization.\n",
      "Field 'gt_mask' is None in ImageItem. Skipping visualization.\n",
      "Field 'gt_mask' is None in ImageItem. Skipping visualization.\n",
      "Field 'gt_mask' is None in ImageItem. Skipping visualization.\n",
      "Field 'gt_mask' is None in ImageItem. Skipping visualization.\n",
      "Field 'gt_mask' is None in ImageItem. Skipping visualization.\n",
      "Field 'gt_mask' is None in ImageItem. Skipping visualization.\n",
      "Field 'gt_mask' is None in ImageItem. Skipping visualization.\n",
      "Field 'gt_mask' is None in ImageItem. Skipping visualization.\n",
      "Field 'gt_mask' is None in ImageItem. Skipping visualization.\n",
      "Field 'gt_mask' is None in ImageItem. Skipping visualization.\n",
      "Field 'gt_mask' is None in ImageItem. Skipping visualization.\n",
      "Field 'gt_mask' is None in ImageItem. Skipping visualization.\n"
     ]
    },
    {
     "name": "stdout",
     "output_type": "stream",
     "text": [
      "Predicting DataLoader 0:  43%|████▎     | 3/7 [00:00<00:00,  4.33it/s]"
     ]
    },
    {
     "name": "stderr",
     "output_type": "stream",
     "text": [
      "Field 'gt_mask' is None in ImageItem. Skipping visualization.\n",
      "Field 'gt_mask' is None in ImageItem. Skipping visualization.\n",
      "Field 'gt_mask' is None in ImageItem. Skipping visualization.\n",
      "Field 'gt_mask' is None in ImageItem. Skipping visualization.\n",
      "Field 'gt_mask' is None in ImageItem. Skipping visualization.\n",
      "Field 'gt_mask' is None in ImageItem. Skipping visualization.\n",
      "Field 'gt_mask' is None in ImageItem. Skipping visualization.\n",
      "Field 'gt_mask' is None in ImageItem. Skipping visualization.\n",
      "Field 'gt_mask' is None in ImageItem. Skipping visualization.\n",
      "Field 'gt_mask' is None in ImageItem. Skipping visualization.\n",
      "Field 'gt_mask' is None in ImageItem. Skipping visualization.\n",
      "Field 'gt_mask' is None in ImageItem. Skipping visualization.\n",
      "Field 'gt_mask' is None in ImageItem. Skipping visualization.\n",
      "Field 'gt_mask' is None in ImageItem. Skipping visualization.\n",
      "Field 'gt_mask' is None in ImageItem. Skipping visualization.\n",
      "Field 'gt_mask' is None in ImageItem. Skipping visualization.\n"
     ]
    },
    {
     "name": "stdout",
     "output_type": "stream",
     "text": [
      "Predicting DataLoader 0:  57%|█████▋    | 4/7 [00:01<00:00,  3.92it/s]"
     ]
    },
    {
     "name": "stderr",
     "output_type": "stream",
     "text": [
      "Field 'gt_mask' is None in ImageItem. Skipping visualization.\n",
      "Field 'gt_mask' is None in ImageItem. Skipping visualization.\n",
      "Field 'gt_mask' is None in ImageItem. Skipping visualization.\n",
      "Field 'gt_mask' is None in ImageItem. Skipping visualization.\n",
      "Field 'gt_mask' is None in ImageItem. Skipping visualization.\n",
      "Field 'gt_mask' is None in ImageItem. Skipping visualization.\n",
      "Field 'gt_mask' is None in ImageItem. Skipping visualization.\n",
      "Field 'gt_mask' is None in ImageItem. Skipping visualization.\n",
      "Field 'gt_mask' is None in ImageItem. Skipping visualization.\n",
      "Field 'gt_mask' is None in ImageItem. Skipping visualization.\n",
      "Field 'gt_mask' is None in ImageItem. Skipping visualization.\n",
      "Field 'gt_mask' is None in ImageItem. Skipping visualization.\n",
      "Field 'gt_mask' is None in ImageItem. Skipping visualization.\n",
      "Field 'gt_mask' is None in ImageItem. Skipping visualization.\n",
      "Field 'gt_mask' is None in ImageItem. Skipping visualization.\n",
      "Field 'gt_mask' is None in ImageItem. Skipping visualization.\n"
     ]
    },
    {
     "name": "stdout",
     "output_type": "stream",
     "text": [
      "Predicting DataLoader 0:  71%|███████▏  | 5/7 [00:01<00:00,  3.29it/s]"
     ]
    },
    {
     "name": "stderr",
     "output_type": "stream",
     "text": [
      "Field 'gt_mask' is None in ImageItem. Skipping visualization.\n",
      "Field 'gt_mask' is None in ImageItem. Skipping visualization.\n",
      "Field 'gt_mask' is None in ImageItem. Skipping visualization.\n",
      "Field 'gt_mask' is None in ImageItem. Skipping visualization.\n",
      "Field 'gt_mask' is None in ImageItem. Skipping visualization.\n",
      "Field 'gt_mask' is None in ImageItem. Skipping visualization.\n",
      "Field 'gt_mask' is None in ImageItem. Skipping visualization.\n",
      "Field 'gt_mask' is None in ImageItem. Skipping visualization.\n",
      "Field 'gt_mask' is None in ImageItem. Skipping visualization.\n",
      "Field 'gt_mask' is None in ImageItem. Skipping visualization.\n",
      "Field 'gt_mask' is None in ImageItem. Skipping visualization.\n",
      "Field 'gt_mask' is None in ImageItem. Skipping visualization.\n",
      "Field 'gt_mask' is None in ImageItem. Skipping visualization.\n",
      "Field 'gt_mask' is None in ImageItem. Skipping visualization.\n",
      "Field 'gt_mask' is None in ImageItem. Skipping visualization.\n",
      "Field 'gt_mask' is None in ImageItem. Skipping visualization.\n"
     ]
    },
    {
     "name": "stdout",
     "output_type": "stream",
     "text": [
      "Predicting DataLoader 0:  86%|████████▌ | 6/7 [00:01<00:00,  3.26it/s]"
     ]
    },
    {
     "name": "stderr",
     "output_type": "stream",
     "text": [
      "Field 'gt_mask' is None in ImageItem. Skipping visualization.\n",
      "Field 'gt_mask' is None in ImageItem. Skipping visualization.\n",
      "Field 'gt_mask' is None in ImageItem. Skipping visualization.\n",
      "Field 'gt_mask' is None in ImageItem. Skipping visualization.\n",
      "Field 'gt_mask' is None in ImageItem. Skipping visualization.\n",
      "Field 'gt_mask' is None in ImageItem. Skipping visualization.\n",
      "Field 'gt_mask' is None in ImageItem. Skipping visualization.\n",
      "Field 'gt_mask' is None in ImageItem. Skipping visualization.\n",
      "Field 'gt_mask' is None in ImageItem. Skipping visualization.\n",
      "Field 'gt_mask' is None in ImageItem. Skipping visualization.\n",
      "Field 'gt_mask' is None in ImageItem. Skipping visualization.\n",
      "Field 'gt_mask' is None in ImageItem. Skipping visualization.\n",
      "Field 'gt_mask' is None in ImageItem. Skipping visualization.\n",
      "Field 'gt_mask' is None in ImageItem. Skipping visualization.\n",
      "Field 'gt_mask' is None in ImageItem. Skipping visualization.\n",
      "Field 'gt_mask' is None in ImageItem. Skipping visualization.\n"
     ]
    },
    {
     "name": "stdout",
     "output_type": "stream",
     "text": [
      "Predicting DataLoader 0: 100%|██████████| 7/7 [00:02<00:00,  3.21it/s]"
     ]
    },
    {
     "name": "stderr",
     "output_type": "stream",
     "text": [
      "Field 'gt_mask' is None in ImageItem. Skipping visualization.\n",
      "Field 'gt_mask' is None in ImageItem. Skipping visualization.\n",
      "Field 'gt_mask' is None in ImageItem. Skipping visualization.\n",
      "Field 'gt_mask' is None in ImageItem. Skipping visualization.\n",
      "Field 'gt_mask' is None in ImageItem. Skipping visualization.\n",
      "Field 'gt_mask' is None in ImageItem. Skipping visualization.\n",
      "Field 'gt_mask' is None in ImageItem. Skipping visualization.\n",
      "Field 'gt_mask' is None in ImageItem. Skipping visualization.\n",
      "Field 'gt_mask' is None in ImageItem. Skipping visualization.\n",
      "Field 'gt_mask' is None in ImageItem. Skipping visualization.\n",
      "Field 'gt_mask' is None in ImageItem. Skipping visualization.\n",
      "Field 'gt_mask' is None in ImageItem. Skipping visualization.\n",
      "Field 'gt_mask' is None in ImageItem. Skipping visualization.\n",
      "Field 'gt_mask' is None in ImageItem. Skipping visualization.\n"
     ]
    },
    {
     "name": "stdout",
     "output_type": "stream",
     "text": [
      "Predicting DataLoader 0: 100%|██████████| 7/7 [00:02<00:00,  2.95it/s]\n"
     ]
    },
    {
     "name": "stderr",
     "output_type": "stream",
     "text": [
      "ckpt_path is not provided. Model weights will not be loaded.\n",
      "The following callbacks returned in `LightningModule.configure_callbacks` will override existing callbacks passed to Trainer: Evaluator, ImageVisualizer, PostProcessor, PreProcessor\n"
     ]
    },
    {
     "name": "stdout",
     "output_type": "stream",
     "text": [
      "  ✅ Used engine.predict successfully\n",
      "❌ Unexpected output format: <class 'anomalib.data.dataclasses.torch.image.ImageBatch'>\n",
      "Batch 6/7\n",
      "  ✅ Found labels in batch.gt_label\n",
      "  Image tensor shape: torch.Size([16, 3, 256, 256])\n",
      "Predicting DataLoader 0:  14%|█▍        | 1/7 [00:00<00:00, 19.48it/s]"
     ]
    },
    {
     "name": "stderr",
     "output_type": "stream",
     "text": [
      "Field 'gt_mask' is None in ImageItem. Skipping visualization.\n",
      "Field 'gt_mask' is None in ImageItem. Skipping visualization.\n",
      "Field 'gt_mask' is None in ImageItem. Skipping visualization.\n",
      "Field 'gt_mask' is None in ImageItem. Skipping visualization.\n",
      "Field 'gt_mask' is None in ImageItem. Skipping visualization.\n",
      "Field 'gt_mask' is None in ImageItem. Skipping visualization.\n",
      "Field 'gt_mask' is None in ImageItem. Skipping visualization.\n",
      "Field 'gt_mask' is None in ImageItem. Skipping visualization.\n",
      "Field 'gt_mask' is None in ImageItem. Skipping visualization.\n",
      "Field 'gt_mask' is None in ImageItem. Skipping visualization.\n",
      "Field 'gt_mask' is None in ImageItem. Skipping visualization.\n",
      "Field 'gt_mask' is None in ImageItem. Skipping visualization.\n",
      "Field 'gt_mask' is None in ImageItem. Skipping visualization.\n",
      "Field 'gt_mask' is None in ImageItem. Skipping visualization.\n",
      "Field 'gt_mask' is None in ImageItem. Skipping visualization.\n",
      "Field 'gt_mask' is None in ImageItem. Skipping visualization.\n"
     ]
    },
    {
     "name": "stdout",
     "output_type": "stream",
     "text": [
      "Predicting DataLoader 0:  29%|██▊       | 2/7 [00:00<00:00,  5.45it/s]"
     ]
    },
    {
     "name": "stderr",
     "output_type": "stream",
     "text": [
      "Field 'gt_mask' is None in ImageItem. Skipping visualization.\n",
      "Field 'gt_mask' is None in ImageItem. Skipping visualization.\n",
      "Field 'gt_mask' is None in ImageItem. Skipping visualization.\n",
      "Field 'gt_mask' is None in ImageItem. Skipping visualization.\n",
      "Field 'gt_mask' is None in ImageItem. Skipping visualization.\n",
      "Field 'gt_mask' is None in ImageItem. Skipping visualization.\n",
      "Field 'gt_mask' is None in ImageItem. Skipping visualization.\n",
      "Field 'gt_mask' is None in ImageItem. Skipping visualization.\n",
      "Field 'gt_mask' is None in ImageItem. Skipping visualization.\n",
      "Field 'gt_mask' is None in ImageItem. Skipping visualization.\n",
      "Field 'gt_mask' is None in ImageItem. Skipping visualization.\n",
      "Field 'gt_mask' is None in ImageItem. Skipping visualization.\n",
      "Field 'gt_mask' is None in ImageItem. Skipping visualization.\n",
      "Field 'gt_mask' is None in ImageItem. Skipping visualization.\n",
      "Field 'gt_mask' is None in ImageItem. Skipping visualization.\n",
      "Field 'gt_mask' is None in ImageItem. Skipping visualization.\n"
     ]
    },
    {
     "name": "stdout",
     "output_type": "stream",
     "text": [
      "Predicting DataLoader 0:  43%|████▎     | 3/7 [00:00<00:00,  4.34it/s]"
     ]
    },
    {
     "name": "stderr",
     "output_type": "stream",
     "text": [
      "Field 'gt_mask' is None in ImageItem. Skipping visualization.\n",
      "Field 'gt_mask' is None in ImageItem. Skipping visualization.\n",
      "Field 'gt_mask' is None in ImageItem. Skipping visualization.\n",
      "Field 'gt_mask' is None in ImageItem. Skipping visualization.\n",
      "Field 'gt_mask' is None in ImageItem. Skipping visualization.\n",
      "Field 'gt_mask' is None in ImageItem. Skipping visualization.\n",
      "Field 'gt_mask' is None in ImageItem. Skipping visualization.\n",
      "Field 'gt_mask' is None in ImageItem. Skipping visualization.\n",
      "Field 'gt_mask' is None in ImageItem. Skipping visualization.\n",
      "Field 'gt_mask' is None in ImageItem. Skipping visualization.\n",
      "Field 'gt_mask' is None in ImageItem. Skipping visualization.\n",
      "Field 'gt_mask' is None in ImageItem. Skipping visualization.\n",
      "Field 'gt_mask' is None in ImageItem. Skipping visualization.\n",
      "Field 'gt_mask' is None in ImageItem. Skipping visualization.\n",
      "Field 'gt_mask' is None in ImageItem. Skipping visualization.\n",
      "Field 'gt_mask' is None in ImageItem. Skipping visualization.\n"
     ]
    },
    {
     "name": "stdout",
     "output_type": "stream",
     "text": [
      "Predicting DataLoader 0:  57%|█████▋    | 4/7 [00:01<00:00,  3.90it/s]"
     ]
    },
    {
     "name": "stderr",
     "output_type": "stream",
     "text": [
      "Field 'gt_mask' is None in ImageItem. Skipping visualization.\n",
      "Field 'gt_mask' is None in ImageItem. Skipping visualization.\n",
      "Field 'gt_mask' is None in ImageItem. Skipping visualization.\n",
      "Field 'gt_mask' is None in ImageItem. Skipping visualization.\n",
      "Field 'gt_mask' is None in ImageItem. Skipping visualization.\n",
      "Field 'gt_mask' is None in ImageItem. Skipping visualization.\n",
      "Field 'gt_mask' is None in ImageItem. Skipping visualization.\n",
      "Field 'gt_mask' is None in ImageItem. Skipping visualization.\n",
      "Field 'gt_mask' is None in ImageItem. Skipping visualization.\n",
      "Field 'gt_mask' is None in ImageItem. Skipping visualization.\n",
      "Field 'gt_mask' is None in ImageItem. Skipping visualization.\n",
      "Field 'gt_mask' is None in ImageItem. Skipping visualization.\n",
      "Field 'gt_mask' is None in ImageItem. Skipping visualization.\n",
      "Field 'gt_mask' is None in ImageItem. Skipping visualization.\n",
      "Field 'gt_mask' is None in ImageItem. Skipping visualization.\n",
      "Field 'gt_mask' is None in ImageItem. Skipping visualization.\n"
     ]
    },
    {
     "name": "stdout",
     "output_type": "stream",
     "text": [
      "Predicting DataLoader 0:  71%|███████▏  | 5/7 [00:01<00:00,  3.55it/s]"
     ]
    },
    {
     "name": "stderr",
     "output_type": "stream",
     "text": [
      "Field 'gt_mask' is None in ImageItem. Skipping visualization.\n",
      "Field 'gt_mask' is None in ImageItem. Skipping visualization.\n",
      "Field 'gt_mask' is None in ImageItem. Skipping visualization.\n",
      "Field 'gt_mask' is None in ImageItem. Skipping visualization.\n",
      "Field 'gt_mask' is None in ImageItem. Skipping visualization.\n",
      "Field 'gt_mask' is None in ImageItem. Skipping visualization.\n",
      "Field 'gt_mask' is None in ImageItem. Skipping visualization.\n",
      "Field 'gt_mask' is None in ImageItem. Skipping visualization.\n",
      "Field 'gt_mask' is None in ImageItem. Skipping visualization.\n",
      "Field 'gt_mask' is None in ImageItem. Skipping visualization.\n",
      "Field 'gt_mask' is None in ImageItem. Skipping visualization.\n",
      "Field 'gt_mask' is None in ImageItem. Skipping visualization.\n",
      "Field 'gt_mask' is None in ImageItem. Skipping visualization.\n",
      "Field 'gt_mask' is None in ImageItem. Skipping visualization.\n",
      "Field 'gt_mask' is None in ImageItem. Skipping visualization.\n",
      "Field 'gt_mask' is None in ImageItem. Skipping visualization.\n"
     ]
    },
    {
     "name": "stdout",
     "output_type": "stream",
     "text": [
      "Predicting DataLoader 0:  86%|████████▌ | 6/7 [00:01<00:00,  3.39it/s]"
     ]
    },
    {
     "name": "stderr",
     "output_type": "stream",
     "text": [
      "Field 'gt_mask' is None in ImageItem. Skipping visualization.\n",
      "Field 'gt_mask' is None in ImageItem. Skipping visualization.\n",
      "Field 'gt_mask' is None in ImageItem. Skipping visualization.\n",
      "Field 'gt_mask' is None in ImageItem. Skipping visualization.\n",
      "Field 'gt_mask' is None in ImageItem. Skipping visualization.\n",
      "Field 'gt_mask' is None in ImageItem. Skipping visualization.\n",
      "Field 'gt_mask' is None in ImageItem. Skipping visualization.\n",
      "Field 'gt_mask' is None in ImageItem. Skipping visualization.\n",
      "Field 'gt_mask' is None in ImageItem. Skipping visualization.\n",
      "Field 'gt_mask' is None in ImageItem. Skipping visualization.\n",
      "Field 'gt_mask' is None in ImageItem. Skipping visualization.\n",
      "Field 'gt_mask' is None in ImageItem. Skipping visualization.\n",
      "Field 'gt_mask' is None in ImageItem. Skipping visualization.\n",
      "Field 'gt_mask' is None in ImageItem. Skipping visualization.\n",
      "Field 'gt_mask' is None in ImageItem. Skipping visualization.\n",
      "Field 'gt_mask' is None in ImageItem. Skipping visualization.\n"
     ]
    },
    {
     "name": "stdout",
     "output_type": "stream",
     "text": [
      "Predicting DataLoader 0: 100%|██████████| 7/7 [00:02<00:00,  3.38it/s]"
     ]
    },
    {
     "name": "stderr",
     "output_type": "stream",
     "text": [
      "Field 'gt_mask' is None in ImageItem. Skipping visualization.\n",
      "Field 'gt_mask' is None in ImageItem. Skipping visualization.\n",
      "Field 'gt_mask' is None in ImageItem. Skipping visualization.\n",
      "Field 'gt_mask' is None in ImageItem. Skipping visualization.\n",
      "Field 'gt_mask' is None in ImageItem. Skipping visualization.\n",
      "Field 'gt_mask' is None in ImageItem. Skipping visualization.\n",
      "Field 'gt_mask' is None in ImageItem. Skipping visualization.\n",
      "Field 'gt_mask' is None in ImageItem. Skipping visualization.\n",
      "Field 'gt_mask' is None in ImageItem. Skipping visualization.\n",
      "Field 'gt_mask' is None in ImageItem. Skipping visualization.\n",
      "Field 'gt_mask' is None in ImageItem. Skipping visualization.\n",
      "Field 'gt_mask' is None in ImageItem. Skipping visualization.\n",
      "Field 'gt_mask' is None in ImageItem. Skipping visualization.\n",
      "Field 'gt_mask' is None in ImageItem. Skipping visualization.\n"
     ]
    },
    {
     "name": "stdout",
     "output_type": "stream",
     "text": [
      "Predicting DataLoader 0: 100%|██████████| 7/7 [00:02<00:00,  3.11it/s]\n"
     ]
    },
    {
     "name": "stderr",
     "output_type": "stream",
     "text": [
      "ckpt_path is not provided. Model weights will not be loaded.\n",
      "The following callbacks returned in `LightningModule.configure_callbacks` will override existing callbacks passed to Trainer: Evaluator, ImageVisualizer, PostProcessor, PreProcessor\n"
     ]
    },
    {
     "name": "stdout",
     "output_type": "stream",
     "text": [
      "  ✅ Used engine.predict successfully\n",
      "❌ Unexpected output format: <class 'anomalib.data.dataclasses.torch.image.ImageBatch'>\n",
      "Batch 7/7\n",
      "  ✅ Found labels in batch.gt_label\n",
      "  Image tensor shape: torch.Size([14, 3, 256, 256])\n",
      "Predicting DataLoader 0:  14%|█▍        | 1/7 [00:00<00:00, 20.58it/s]"
     ]
    },
    {
     "name": "stderr",
     "output_type": "stream",
     "text": [
      "Field 'gt_mask' is None in ImageItem. Skipping visualization.\n",
      "Field 'gt_mask' is None in ImageItem. Skipping visualization.\n",
      "Field 'gt_mask' is None in ImageItem. Skipping visualization.\n",
      "Field 'gt_mask' is None in ImageItem. Skipping visualization.\n",
      "Field 'gt_mask' is None in ImageItem. Skipping visualization.\n",
      "Field 'gt_mask' is None in ImageItem. Skipping visualization.\n",
      "Field 'gt_mask' is None in ImageItem. Skipping visualization.\n",
      "Field 'gt_mask' is None in ImageItem. Skipping visualization.\n",
      "Field 'gt_mask' is None in ImageItem. Skipping visualization.\n",
      "Field 'gt_mask' is None in ImageItem. Skipping visualization.\n",
      "Field 'gt_mask' is None in ImageItem. Skipping visualization.\n",
      "Field 'gt_mask' is None in ImageItem. Skipping visualization.\n",
      "Field 'gt_mask' is None in ImageItem. Skipping visualization.\n",
      "Field 'gt_mask' is None in ImageItem. Skipping visualization.\n",
      "Field 'gt_mask' is None in ImageItem. Skipping visualization.\n",
      "Field 'gt_mask' is None in ImageItem. Skipping visualization.\n"
     ]
    },
    {
     "name": "stdout",
     "output_type": "stream",
     "text": [
      "Predicting DataLoader 0:  29%|██▊       | 2/7 [00:00<00:00,  5.50it/s]"
     ]
    },
    {
     "name": "stderr",
     "output_type": "stream",
     "text": [
      "Field 'gt_mask' is None in ImageItem. Skipping visualization.\n",
      "Field 'gt_mask' is None in ImageItem. Skipping visualization.\n",
      "Field 'gt_mask' is None in ImageItem. Skipping visualization.\n",
      "Field 'gt_mask' is None in ImageItem. Skipping visualization.\n",
      "Field 'gt_mask' is None in ImageItem. Skipping visualization.\n",
      "Field 'gt_mask' is None in ImageItem. Skipping visualization.\n",
      "Field 'gt_mask' is None in ImageItem. Skipping visualization.\n",
      "Field 'gt_mask' is None in ImageItem. Skipping visualization.\n",
      "Field 'gt_mask' is None in ImageItem. Skipping visualization.\n",
      "Field 'gt_mask' is None in ImageItem. Skipping visualization.\n",
      "Field 'gt_mask' is None in ImageItem. Skipping visualization.\n",
      "Field 'gt_mask' is None in ImageItem. Skipping visualization.\n",
      "Field 'gt_mask' is None in ImageItem. Skipping visualization.\n",
      "Field 'gt_mask' is None in ImageItem. Skipping visualization.\n",
      "Field 'gt_mask' is None in ImageItem. Skipping visualization.\n",
      "Field 'gt_mask' is None in ImageItem. Skipping visualization.\n"
     ]
    },
    {
     "name": "stdout",
     "output_type": "stream",
     "text": [
      "Predicting DataLoader 0:  43%|████▎     | 3/7 [00:00<00:00,  4.40it/s]"
     ]
    },
    {
     "name": "stderr",
     "output_type": "stream",
     "text": [
      "Field 'gt_mask' is None in ImageItem. Skipping visualization.\n",
      "Field 'gt_mask' is None in ImageItem. Skipping visualization.\n",
      "Field 'gt_mask' is None in ImageItem. Skipping visualization.\n",
      "Field 'gt_mask' is None in ImageItem. Skipping visualization.\n",
      "Field 'gt_mask' is None in ImageItem. Skipping visualization.\n",
      "Field 'gt_mask' is None in ImageItem. Skipping visualization.\n",
      "Field 'gt_mask' is None in ImageItem. Skipping visualization.\n",
      "Field 'gt_mask' is None in ImageItem. Skipping visualization.\n",
      "Field 'gt_mask' is None in ImageItem. Skipping visualization.\n",
      "Field 'gt_mask' is None in ImageItem. Skipping visualization.\n",
      "Field 'gt_mask' is None in ImageItem. Skipping visualization.\n",
      "Field 'gt_mask' is None in ImageItem. Skipping visualization.\n",
      "Field 'gt_mask' is None in ImageItem. Skipping visualization.\n",
      "Field 'gt_mask' is None in ImageItem. Skipping visualization.\n",
      "Field 'gt_mask' is None in ImageItem. Skipping visualization.\n",
      "Field 'gt_mask' is None in ImageItem. Skipping visualization.\n"
     ]
    },
    {
     "name": "stdout",
     "output_type": "stream",
     "text": [
      "Predicting DataLoader 0:  57%|█████▋    | 4/7 [00:01<00:00,  3.92it/s]"
     ]
    },
    {
     "name": "stderr",
     "output_type": "stream",
     "text": [
      "Field 'gt_mask' is None in ImageItem. Skipping visualization.\n",
      "Field 'gt_mask' is None in ImageItem. Skipping visualization.\n",
      "Field 'gt_mask' is None in ImageItem. Skipping visualization.\n",
      "Field 'gt_mask' is None in ImageItem. Skipping visualization.\n",
      "Field 'gt_mask' is None in ImageItem. Skipping visualization.\n",
      "Field 'gt_mask' is None in ImageItem. Skipping visualization.\n",
      "Field 'gt_mask' is None in ImageItem. Skipping visualization.\n",
      "Field 'gt_mask' is None in ImageItem. Skipping visualization.\n",
      "Field 'gt_mask' is None in ImageItem. Skipping visualization.\n",
      "Field 'gt_mask' is None in ImageItem. Skipping visualization.\n",
      "Field 'gt_mask' is None in ImageItem. Skipping visualization.\n",
      "Field 'gt_mask' is None in ImageItem. Skipping visualization.\n",
      "Field 'gt_mask' is None in ImageItem. Skipping visualization.\n",
      "Field 'gt_mask' is None in ImageItem. Skipping visualization.\n",
      "Field 'gt_mask' is None in ImageItem. Skipping visualization.\n",
      "Field 'gt_mask' is None in ImageItem. Skipping visualization.\n"
     ]
    },
    {
     "name": "stdout",
     "output_type": "stream",
     "text": [
      "Predicting DataLoader 0:  71%|███████▏  | 5/7 [00:01<00:00,  3.32it/s]"
     ]
    },
    {
     "name": "stderr",
     "output_type": "stream",
     "text": [
      "Field 'gt_mask' is None in ImageItem. Skipping visualization.\n",
      "Field 'gt_mask' is None in ImageItem. Skipping visualization.\n",
      "Field 'gt_mask' is None in ImageItem. Skipping visualization.\n",
      "Field 'gt_mask' is None in ImageItem. Skipping visualization.\n",
      "Field 'gt_mask' is None in ImageItem. Skipping visualization.\n",
      "Field 'gt_mask' is None in ImageItem. Skipping visualization.\n",
      "Field 'gt_mask' is None in ImageItem. Skipping visualization.\n",
      "Field 'gt_mask' is None in ImageItem. Skipping visualization.\n",
      "Field 'gt_mask' is None in ImageItem. Skipping visualization.\n",
      "Field 'gt_mask' is None in ImageItem. Skipping visualization.\n",
      "Field 'gt_mask' is None in ImageItem. Skipping visualization.\n",
      "Field 'gt_mask' is None in ImageItem. Skipping visualization.\n",
      "Field 'gt_mask' is None in ImageItem. Skipping visualization.\n",
      "Field 'gt_mask' is None in ImageItem. Skipping visualization.\n",
      "Field 'gt_mask' is None in ImageItem. Skipping visualization.\n",
      "Field 'gt_mask' is None in ImageItem. Skipping visualization.\n"
     ]
    },
    {
     "name": "stdout",
     "output_type": "stream",
     "text": [
      "Predicting DataLoader 0:  86%|████████▌ | 6/7 [00:01<00:00,  3.28it/s]"
     ]
    },
    {
     "name": "stderr",
     "output_type": "stream",
     "text": [
      "Field 'gt_mask' is None in ImageItem. Skipping visualization.\n",
      "Field 'gt_mask' is None in ImageItem. Skipping visualization.\n",
      "Field 'gt_mask' is None in ImageItem. Skipping visualization.\n",
      "Field 'gt_mask' is None in ImageItem. Skipping visualization.\n",
      "Field 'gt_mask' is None in ImageItem. Skipping visualization.\n",
      "Field 'gt_mask' is None in ImageItem. Skipping visualization.\n",
      "Field 'gt_mask' is None in ImageItem. Skipping visualization.\n",
      "Field 'gt_mask' is None in ImageItem. Skipping visualization.\n",
      "Field 'gt_mask' is None in ImageItem. Skipping visualization.\n",
      "Field 'gt_mask' is None in ImageItem. Skipping visualization.\n",
      "Field 'gt_mask' is None in ImageItem. Skipping visualization.\n",
      "Field 'gt_mask' is None in ImageItem. Skipping visualization.\n",
      "Field 'gt_mask' is None in ImageItem. Skipping visualization.\n",
      "Field 'gt_mask' is None in ImageItem. Skipping visualization.\n",
      "Field 'gt_mask' is None in ImageItem. Skipping visualization.\n",
      "Field 'gt_mask' is None in ImageItem. Skipping visualization.\n"
     ]
    },
    {
     "name": "stdout",
     "output_type": "stream",
     "text": [
      "Predicting DataLoader 0: 100%|██████████| 7/7 [00:02<00:00,  3.30it/s]"
     ]
    },
    {
     "name": "stderr",
     "output_type": "stream",
     "text": [
      "Field 'gt_mask' is None in ImageItem. Skipping visualization.\n",
      "Field 'gt_mask' is None in ImageItem. Skipping visualization.\n",
      "Field 'gt_mask' is None in ImageItem. Skipping visualization.\n",
      "Field 'gt_mask' is None in ImageItem. Skipping visualization.\n",
      "Field 'gt_mask' is None in ImageItem. Skipping visualization.\n",
      "Field 'gt_mask' is None in ImageItem. Skipping visualization.\n",
      "Field 'gt_mask' is None in ImageItem. Skipping visualization.\n",
      "Field 'gt_mask' is None in ImageItem. Skipping visualization.\n",
      "Field 'gt_mask' is None in ImageItem. Skipping visualization.\n",
      "Field 'gt_mask' is None in ImageItem. Skipping visualization.\n",
      "Field 'gt_mask' is None in ImageItem. Skipping visualization.\n",
      "Field 'gt_mask' is None in ImageItem. Skipping visualization.\n",
      "Field 'gt_mask' is None in ImageItem. Skipping visualization.\n",
      "Field 'gt_mask' is None in ImageItem. Skipping visualization.\n"
     ]
    },
    {
     "name": "stdout",
     "output_type": "stream",
     "text": [
      "Predicting DataLoader 0: 100%|██████████| 7/7 [00:02<00:00,  3.03it/s]\n"
     ]
    },
    {
     "name": "stderr",
     "output_type": "stream",
     "text": [
      "The following callbacks returned in `LightningModule.configure_callbacks` will override existing callbacks passed to Trainer: Evaluator, ImageVisualizer, PostProcessor, PreProcessor\n",
      "/Users/zideng/mamba/envs/ml/lib/python3.13/site-packages/lightning/pytorch/trainer/connectors/data_connector.py:425: The 'test_dataloader' does not have many workers which may be a bottleneck. Consider increasing the value of the `num_workers` argument` to `num_workers=9` in the `DataLoader` to improve performance.\n"
     ]
    },
    {
     "name": "stdout",
     "output_type": "stream",
     "text": [
      "  ✅ Used engine.predict successfully\n",
      "❌ Unexpected output format: <class 'anomalib.data.dataclasses.torch.image.ImageBatch'>\n",
      "\n",
      "📊 COLLECTION RESULTS:\n",
      "   Total samples: 0\n",
      "   Scores collected: 0\n",
      "   Predictions collected: 0\n",
      "❌ NO SCORES COLLECTED - TRYING ALTERNATIVE METHOD\n",
      "Trying to extract scores from engine test results...\n",
      "Testing DataLoader 0:  14%|█▍        | 1/7 [00:00<00:00, 19.43it/s]"
     ]
    },
    {
     "name": "stderr",
     "output_type": "stream",
     "text": [
      "Field 'gt_mask' is None in ImageItem. Skipping visualization.\n",
      "Field 'gt_mask' is None in ImageItem. Skipping visualization.\n",
      "Field 'gt_mask' is None in ImageItem. Skipping visualization.\n",
      "Field 'gt_mask' is None in ImageItem. Skipping visualization.\n",
      "Field 'gt_mask' is None in ImageItem. Skipping visualization.\n",
      "Field 'gt_mask' is None in ImageItem. Skipping visualization.\n",
      "Field 'gt_mask' is None in ImageItem. Skipping visualization.\n",
      "Field 'gt_mask' is None in ImageItem. Skipping visualization.\n",
      "Field 'gt_mask' is None in ImageItem. Skipping visualization.\n",
      "Field 'gt_mask' is None in ImageItem. Skipping visualization.\n",
      "Field 'gt_mask' is None in ImageItem. Skipping visualization.\n",
      "Field 'gt_mask' is None in ImageItem. Skipping visualization.\n",
      "Field 'gt_mask' is None in ImageItem. Skipping visualization.\n",
      "Field 'gt_mask' is None in ImageItem. Skipping visualization.\n",
      "Field 'gt_mask' is None in ImageItem. Skipping visualization.\n",
      "Field 'gt_mask' is None in ImageItem. Skipping visualization.\n"
     ]
    },
    {
     "name": "stdout",
     "output_type": "stream",
     "text": [
      "Testing DataLoader 0:  29%|██▊       | 2/7 [00:00<00:00,  5.32it/s]"
     ]
    },
    {
     "name": "stderr",
     "output_type": "stream",
     "text": [
      "Field 'gt_mask' is None in ImageItem. Skipping visualization.\n",
      "Field 'gt_mask' is None in ImageItem. Skipping visualization.\n",
      "Field 'gt_mask' is None in ImageItem. Skipping visualization.\n",
      "Field 'gt_mask' is None in ImageItem. Skipping visualization.\n",
      "Field 'gt_mask' is None in ImageItem. Skipping visualization.\n",
      "Field 'gt_mask' is None in ImageItem. Skipping visualization.\n",
      "Field 'gt_mask' is None in ImageItem. Skipping visualization.\n",
      "Field 'gt_mask' is None in ImageItem. Skipping visualization.\n",
      "Field 'gt_mask' is None in ImageItem. Skipping visualization.\n",
      "Field 'gt_mask' is None in ImageItem. Skipping visualization.\n",
      "Field 'gt_mask' is None in ImageItem. Skipping visualization.\n",
      "Field 'gt_mask' is None in ImageItem. Skipping visualization.\n",
      "Field 'gt_mask' is None in ImageItem. Skipping visualization.\n",
      "Field 'gt_mask' is None in ImageItem. Skipping visualization.\n",
      "Field 'gt_mask' is None in ImageItem. Skipping visualization.\n",
      "Field 'gt_mask' is None in ImageItem. Skipping visualization.\n"
     ]
    },
    {
     "name": "stdout",
     "output_type": "stream",
     "text": [
      "Testing DataLoader 0:  43%|████▎     | 3/7 [00:00<00:00,  4.27it/s]"
     ]
    },
    {
     "name": "stderr",
     "output_type": "stream",
     "text": [
      "Field 'gt_mask' is None in ImageItem. Skipping visualization.\n",
      "Field 'gt_mask' is None in ImageItem. Skipping visualization.\n",
      "Field 'gt_mask' is None in ImageItem. Skipping visualization.\n",
      "Field 'gt_mask' is None in ImageItem. Skipping visualization.\n",
      "Field 'gt_mask' is None in ImageItem. Skipping visualization.\n",
      "Field 'gt_mask' is None in ImageItem. Skipping visualization.\n",
      "Field 'gt_mask' is None in ImageItem. Skipping visualization.\n",
      "Field 'gt_mask' is None in ImageItem. Skipping visualization.\n",
      "Field 'gt_mask' is None in ImageItem. Skipping visualization.\n",
      "Field 'gt_mask' is None in ImageItem. Skipping visualization.\n",
      "Field 'gt_mask' is None in ImageItem. Skipping visualization.\n",
      "Field 'gt_mask' is None in ImageItem. Skipping visualization.\n",
      "Field 'gt_mask' is None in ImageItem. Skipping visualization.\n",
      "Field 'gt_mask' is None in ImageItem. Skipping visualization.\n",
      "Field 'gt_mask' is None in ImageItem. Skipping visualization.\n",
      "Field 'gt_mask' is None in ImageItem. Skipping visualization.\n"
     ]
    },
    {
     "name": "stdout",
     "output_type": "stream",
     "text": [
      "Testing DataLoader 0:  57%|█████▋    | 4/7 [00:01<00:00,  3.71it/s]"
     ]
    },
    {
     "name": "stderr",
     "output_type": "stream",
     "text": [
      "Field 'gt_mask' is None in ImageItem. Skipping visualization.\n",
      "Field 'gt_mask' is None in ImageItem. Skipping visualization.\n",
      "Field 'gt_mask' is None in ImageItem. Skipping visualization.\n",
      "Field 'gt_mask' is None in ImageItem. Skipping visualization.\n",
      "Field 'gt_mask' is None in ImageItem. Skipping visualization.\n",
      "Field 'gt_mask' is None in ImageItem. Skipping visualization.\n",
      "Field 'gt_mask' is None in ImageItem. Skipping visualization.\n",
      "Field 'gt_mask' is None in ImageItem. Skipping visualization.\n",
      "Field 'gt_mask' is None in ImageItem. Skipping visualization.\n",
      "Field 'gt_mask' is None in ImageItem. Skipping visualization.\n",
      "Field 'gt_mask' is None in ImageItem. Skipping visualization.\n",
      "Field 'gt_mask' is None in ImageItem. Skipping visualization.\n",
      "Field 'gt_mask' is None in ImageItem. Skipping visualization.\n",
      "Field 'gt_mask' is None in ImageItem. Skipping visualization.\n",
      "Field 'gt_mask' is None in ImageItem. Skipping visualization.\n",
      "Field 'gt_mask' is None in ImageItem. Skipping visualization.\n"
     ]
    },
    {
     "name": "stdout",
     "output_type": "stream",
     "text": [
      "Testing DataLoader 0:  71%|███████▏  | 5/7 [00:01<00:00,  3.46it/s]"
     ]
    },
    {
     "name": "stderr",
     "output_type": "stream",
     "text": [
      "Field 'gt_mask' is None in ImageItem. Skipping visualization.\n",
      "Field 'gt_mask' is None in ImageItem. Skipping visualization.\n",
      "Field 'gt_mask' is None in ImageItem. Skipping visualization.\n",
      "Field 'gt_mask' is None in ImageItem. Skipping visualization.\n",
      "Field 'gt_mask' is None in ImageItem. Skipping visualization.\n",
      "Field 'gt_mask' is None in ImageItem. Skipping visualization.\n",
      "Field 'gt_mask' is None in ImageItem. Skipping visualization.\n",
      "Field 'gt_mask' is None in ImageItem. Skipping visualization.\n",
      "Field 'gt_mask' is None in ImageItem. Skipping visualization.\n",
      "Field 'gt_mask' is None in ImageItem. Skipping visualization.\n",
      "Field 'gt_mask' is None in ImageItem. Skipping visualization.\n",
      "Field 'gt_mask' is None in ImageItem. Skipping visualization.\n",
      "Field 'gt_mask' is None in ImageItem. Skipping visualization.\n",
      "Field 'gt_mask' is None in ImageItem. Skipping visualization.\n",
      "Field 'gt_mask' is None in ImageItem. Skipping visualization.\n",
      "Field 'gt_mask' is None in ImageItem. Skipping visualization.\n"
     ]
    },
    {
     "name": "stdout",
     "output_type": "stream",
     "text": [
      "Testing DataLoader 0:  86%|████████▌ | 6/7 [00:01<00:00,  3.39it/s]"
     ]
    },
    {
     "name": "stderr",
     "output_type": "stream",
     "text": [
      "Field 'gt_mask' is None in ImageItem. Skipping visualization.\n",
      "Field 'gt_mask' is None in ImageItem. Skipping visualization.\n",
      "Field 'gt_mask' is None in ImageItem. Skipping visualization.\n",
      "Field 'gt_mask' is None in ImageItem. Skipping visualization.\n",
      "Field 'gt_mask' is None in ImageItem. Skipping visualization.\n",
      "Field 'gt_mask' is None in ImageItem. Skipping visualization.\n",
      "Field 'gt_mask' is None in ImageItem. Skipping visualization.\n",
      "Field 'gt_mask' is None in ImageItem. Skipping visualization.\n",
      "Field 'gt_mask' is None in ImageItem. Skipping visualization.\n",
      "Field 'gt_mask' is None in ImageItem. Skipping visualization.\n",
      "Field 'gt_mask' is None in ImageItem. Skipping visualization.\n",
      "Field 'gt_mask' is None in ImageItem. Skipping visualization.\n",
      "Field 'gt_mask' is None in ImageItem. Skipping visualization.\n",
      "Field 'gt_mask' is None in ImageItem. Skipping visualization.\n",
      "Field 'gt_mask' is None in ImageItem. Skipping visualization.\n",
      "Field 'gt_mask' is None in ImageItem. Skipping visualization.\n"
     ]
    },
    {
     "name": "stdout",
     "output_type": "stream",
     "text": [
      "Testing DataLoader 0: 100%|██████████| 7/7 [00:02<00:00,  3.37it/s]"
     ]
    },
    {
     "name": "stderr",
     "output_type": "stream",
     "text": [
      "Field 'gt_mask' is None in ImageItem. Skipping visualization.\n",
      "Field 'gt_mask' is None in ImageItem. Skipping visualization.\n",
      "Field 'gt_mask' is None in ImageItem. Skipping visualization.\n",
      "Field 'gt_mask' is None in ImageItem. Skipping visualization.\n",
      "Field 'gt_mask' is None in ImageItem. Skipping visualization.\n",
      "Field 'gt_mask' is None in ImageItem. Skipping visualization.\n",
      "Field 'gt_mask' is None in ImageItem. Skipping visualization.\n",
      "Field 'gt_mask' is None in ImageItem. Skipping visualization.\n",
      "Field 'gt_mask' is None in ImageItem. Skipping visualization.\n",
      "Field 'gt_mask' is None in ImageItem. Skipping visualization.\n",
      "Field 'gt_mask' is None in ImageItem. Skipping visualization.\n",
      "Field 'gt_mask' is None in ImageItem. Skipping visualization.\n",
      "Field 'gt_mask' is None in ImageItem. Skipping visualization.\n",
      "Field 'gt_mask' is None in ImageItem. Skipping visualization.\n"
     ]
    },
    {
     "name": "stdout",
     "output_type": "stream",
     "text": [
      "Testing DataLoader 0: 100%|██████████| 7/7 [00:02<00:00,  3.03it/s]"
     ]
    },
    {
     "name": "stderr",
     "output_type": "stream",
     "text": [
      "ckpt_path is not provided. Model weights will not be loaded.\n",
      "The following callbacks returned in `LightningModule.configure_callbacks` will override existing callbacks passed to Trainer: Evaluator, ImageVisualizer, PostProcessor, PreProcessor\n"
     ]
    },
    {
     "name": "stdout",
     "output_type": "stream",
     "text": [
      "\n",
      "Test results: [{'image_AUROC': 0.6069999933242798, 'image_F1Score': 0.9523809552192688}]\n",
      "Trying engine.predict method...\n",
      "Predicting DataLoader 0:  14%|█▍        | 1/7 [00:00<00:00, 21.31it/s]"
     ]
    },
    {
     "name": "stderr",
     "output_type": "stream",
     "text": [
      "Field 'gt_mask' is None in ImageItem. Skipping visualization.\n",
      "Field 'gt_mask' is None in ImageItem. Skipping visualization.\n",
      "Field 'gt_mask' is None in ImageItem. Skipping visualization.\n",
      "Field 'gt_mask' is None in ImageItem. Skipping visualization.\n",
      "Field 'gt_mask' is None in ImageItem. Skipping visualization.\n",
      "Field 'gt_mask' is None in ImageItem. Skipping visualization.\n",
      "Field 'gt_mask' is None in ImageItem. Skipping visualization.\n",
      "Field 'gt_mask' is None in ImageItem. Skipping visualization.\n",
      "Field 'gt_mask' is None in ImageItem. Skipping visualization.\n",
      "Field 'gt_mask' is None in ImageItem. Skipping visualization.\n",
      "Field 'gt_mask' is None in ImageItem. Skipping visualization.\n",
      "Field 'gt_mask' is None in ImageItem. Skipping visualization.\n",
      "Field 'gt_mask' is None in ImageItem. Skipping visualization.\n",
      "Field 'gt_mask' is None in ImageItem. Skipping visualization.\n",
      "Field 'gt_mask' is None in ImageItem. Skipping visualization.\n",
      "Field 'gt_mask' is None in ImageItem. Skipping visualization.\n"
     ]
    },
    {
     "name": "stdout",
     "output_type": "stream",
     "text": [
      "Predicting DataLoader 0:  29%|██▊       | 2/7 [00:00<00:00,  5.47it/s]"
     ]
    },
    {
     "name": "stderr",
     "output_type": "stream",
     "text": [
      "Field 'gt_mask' is None in ImageItem. Skipping visualization.\n",
      "Field 'gt_mask' is None in ImageItem. Skipping visualization.\n",
      "Field 'gt_mask' is None in ImageItem. Skipping visualization.\n",
      "Field 'gt_mask' is None in ImageItem. Skipping visualization.\n",
      "Field 'gt_mask' is None in ImageItem. Skipping visualization.\n",
      "Field 'gt_mask' is None in ImageItem. Skipping visualization.\n",
      "Field 'gt_mask' is None in ImageItem. Skipping visualization.\n",
      "Field 'gt_mask' is None in ImageItem. Skipping visualization.\n",
      "Field 'gt_mask' is None in ImageItem. Skipping visualization.\n",
      "Field 'gt_mask' is None in ImageItem. Skipping visualization.\n",
      "Field 'gt_mask' is None in ImageItem. Skipping visualization.\n",
      "Field 'gt_mask' is None in ImageItem. Skipping visualization.\n",
      "Field 'gt_mask' is None in ImageItem. Skipping visualization.\n",
      "Field 'gt_mask' is None in ImageItem. Skipping visualization.\n",
      "Field 'gt_mask' is None in ImageItem. Skipping visualization.\n",
      "Field 'gt_mask' is None in ImageItem. Skipping visualization.\n"
     ]
    },
    {
     "name": "stdout",
     "output_type": "stream",
     "text": [
      "Predicting DataLoader 0:  43%|████▎     | 3/7 [00:00<00:00,  4.25it/s]"
     ]
    },
    {
     "name": "stderr",
     "output_type": "stream",
     "text": [
      "Field 'gt_mask' is None in ImageItem. Skipping visualization.\n",
      "Field 'gt_mask' is None in ImageItem. Skipping visualization.\n",
      "Field 'gt_mask' is None in ImageItem. Skipping visualization.\n",
      "Field 'gt_mask' is None in ImageItem. Skipping visualization.\n",
      "Field 'gt_mask' is None in ImageItem. Skipping visualization.\n",
      "Field 'gt_mask' is None in ImageItem. Skipping visualization.\n",
      "Field 'gt_mask' is None in ImageItem. Skipping visualization.\n",
      "Field 'gt_mask' is None in ImageItem. Skipping visualization.\n",
      "Field 'gt_mask' is None in ImageItem. Skipping visualization.\n",
      "Field 'gt_mask' is None in ImageItem. Skipping visualization.\n",
      "Field 'gt_mask' is None in ImageItem. Skipping visualization.\n",
      "Field 'gt_mask' is None in ImageItem. Skipping visualization.\n",
      "Field 'gt_mask' is None in ImageItem. Skipping visualization.\n",
      "Field 'gt_mask' is None in ImageItem. Skipping visualization.\n",
      "Field 'gt_mask' is None in ImageItem. Skipping visualization.\n",
      "Field 'gt_mask' is None in ImageItem. Skipping visualization.\n"
     ]
    },
    {
     "name": "stdout",
     "output_type": "stream",
     "text": [
      "Predicting DataLoader 0:  57%|█████▋    | 4/7 [00:01<00:00,  3.85it/s]"
     ]
    },
    {
     "name": "stderr",
     "output_type": "stream",
     "text": [
      "Field 'gt_mask' is None in ImageItem. Skipping visualization.\n",
      "Field 'gt_mask' is None in ImageItem. Skipping visualization.\n",
      "Field 'gt_mask' is None in ImageItem. Skipping visualization.\n",
      "Field 'gt_mask' is None in ImageItem. Skipping visualization.\n",
      "Field 'gt_mask' is None in ImageItem. Skipping visualization.\n",
      "Field 'gt_mask' is None in ImageItem. Skipping visualization.\n",
      "Field 'gt_mask' is None in ImageItem. Skipping visualization.\n",
      "Field 'gt_mask' is None in ImageItem. Skipping visualization.\n",
      "Field 'gt_mask' is None in ImageItem. Skipping visualization.\n",
      "Field 'gt_mask' is None in ImageItem. Skipping visualization.\n",
      "Field 'gt_mask' is None in ImageItem. Skipping visualization.\n",
      "Field 'gt_mask' is None in ImageItem. Skipping visualization.\n",
      "Field 'gt_mask' is None in ImageItem. Skipping visualization.\n",
      "Field 'gt_mask' is None in ImageItem. Skipping visualization.\n",
      "Field 'gt_mask' is None in ImageItem. Skipping visualization.\n",
      "Field 'gt_mask' is None in ImageItem. Skipping visualization.\n"
     ]
    },
    {
     "name": "stdout",
     "output_type": "stream",
     "text": [
      "Predicting DataLoader 0:  71%|███████▏  | 5/7 [00:01<00:00,  3.56it/s]"
     ]
    },
    {
     "name": "stderr",
     "output_type": "stream",
     "text": [
      "Field 'gt_mask' is None in ImageItem. Skipping visualization.\n",
      "Field 'gt_mask' is None in ImageItem. Skipping visualization.\n",
      "Field 'gt_mask' is None in ImageItem. Skipping visualization.\n",
      "Field 'gt_mask' is None in ImageItem. Skipping visualization.\n",
      "Field 'gt_mask' is None in ImageItem. Skipping visualization.\n",
      "Field 'gt_mask' is None in ImageItem. Skipping visualization.\n",
      "Field 'gt_mask' is None in ImageItem. Skipping visualization.\n",
      "Field 'gt_mask' is None in ImageItem. Skipping visualization.\n",
      "Field 'gt_mask' is None in ImageItem. Skipping visualization.\n",
      "Field 'gt_mask' is None in ImageItem. Skipping visualization.\n",
      "Field 'gt_mask' is None in ImageItem. Skipping visualization.\n",
      "Field 'gt_mask' is None in ImageItem. Skipping visualization.\n",
      "Field 'gt_mask' is None in ImageItem. Skipping visualization.\n",
      "Field 'gt_mask' is None in ImageItem. Skipping visualization.\n",
      "Field 'gt_mask' is None in ImageItem. Skipping visualization.\n",
      "Field 'gt_mask' is None in ImageItem. Skipping visualization.\n"
     ]
    },
    {
     "name": "stdout",
     "output_type": "stream",
     "text": [
      "Predicting DataLoader 0:  86%|████████▌ | 6/7 [00:01<00:00,  3.44it/s]"
     ]
    },
    {
     "name": "stderr",
     "output_type": "stream",
     "text": [
      "Field 'gt_mask' is None in ImageItem. Skipping visualization.\n",
      "Field 'gt_mask' is None in ImageItem. Skipping visualization.\n",
      "Field 'gt_mask' is None in ImageItem. Skipping visualization.\n",
      "Field 'gt_mask' is None in ImageItem. Skipping visualization.\n",
      "Field 'gt_mask' is None in ImageItem. Skipping visualization.\n",
      "Field 'gt_mask' is None in ImageItem. Skipping visualization.\n",
      "Field 'gt_mask' is None in ImageItem. Skipping visualization.\n",
      "Field 'gt_mask' is None in ImageItem. Skipping visualization.\n",
      "Field 'gt_mask' is None in ImageItem. Skipping visualization.\n",
      "Field 'gt_mask' is None in ImageItem. Skipping visualization.\n",
      "Field 'gt_mask' is None in ImageItem. Skipping visualization.\n",
      "Field 'gt_mask' is None in ImageItem. Skipping visualization.\n",
      "Field 'gt_mask' is None in ImageItem. Skipping visualization.\n",
      "Field 'gt_mask' is None in ImageItem. Skipping visualization.\n",
      "Field 'gt_mask' is None in ImageItem. Skipping visualization.\n",
      "Field 'gt_mask' is None in ImageItem. Skipping visualization.\n"
     ]
    },
    {
     "name": "stdout",
     "output_type": "stream",
     "text": [
      "Predicting DataLoader 0: 100%|██████████| 7/7 [00:02<00:00,  3.35it/s]"
     ]
    },
    {
     "name": "stderr",
     "output_type": "stream",
     "text": [
      "Field 'gt_mask' is None in ImageItem. Skipping visualization.\n",
      "Field 'gt_mask' is None in ImageItem. Skipping visualization.\n",
      "Field 'gt_mask' is None in ImageItem. Skipping visualization.\n",
      "Field 'gt_mask' is None in ImageItem. Skipping visualization.\n",
      "Field 'gt_mask' is None in ImageItem. Skipping visualization.\n",
      "Field 'gt_mask' is None in ImageItem. Skipping visualization.\n",
      "Field 'gt_mask' is None in ImageItem. Skipping visualization.\n",
      "Field 'gt_mask' is None in ImageItem. Skipping visualization.\n",
      "Field 'gt_mask' is None in ImageItem. Skipping visualization.\n",
      "Field 'gt_mask' is None in ImageItem. Skipping visualization.\n",
      "Field 'gt_mask' is None in ImageItem. Skipping visualization.\n",
      "Field 'gt_mask' is None in ImageItem. Skipping visualization.\n",
      "Field 'gt_mask' is None in ImageItem. Skipping visualization.\n",
      "Field 'gt_mask' is None in ImageItem. Skipping visualization.\n"
     ]
    },
    {
     "name": "stdout",
     "output_type": "stream",
     "text": [
      "Predicting DataLoader 0: 100%|██████████| 7/7 [00:02<00:00,  2.93it/s]\n",
      "Got 7 prediction results\n",
      "Prediction results type: <class 'list'>\n",
      "First prediction type: <class 'anomalib.data.dataclasses.torch.image.ImageBatch'>\n",
      "First prediction attributes: ['image', 'gt_label', 'gt_mask', 'mask_path', 'anomaly_map', 'pred_score', 'pred_mask', 'pred_label', 'explanation', 'image_path']\n",
      "Processing prediction batch 1/7\n",
      "  Object attributes: ['anomaly_map', 'batch_size', 'collate', 'explanation', 'gt_label', 'gt_mask', 'image', 'image_path', 'item_class', 'items', 'mask_path', 'numpy_class', 'pred_label', 'pred_mask', 'pred_score', 'to_numpy', 'update', 'validate_anomaly_map', 'validate_explanation', 'validate_gt_label', 'validate_gt_mask', 'validate_image', 'validate_image_path', 'validate_mask_path', 'validate_pred_label', 'validate_pred_mask', 'validate_pred_score']\n",
      "  ✅ Found 16 predictions in .pred_label\n",
      "  ✅ Found 16 labels in .gt_label\n",
      "  Batch totals: 0 scores, 16 preds, 16 labels\n",
      "Raw extraction totals: 0 scores, 16 preds, 16 labels\n",
      "Processing prediction batch 2/7\n",
      "  Object attributes: ['anomaly_map', 'batch_size', 'collate', 'explanation', 'gt_label', 'gt_mask', 'image', 'image_path', 'item_class', 'items', 'mask_path', 'numpy_class', 'pred_label', 'pred_mask', 'pred_score', 'to_numpy', 'update', 'validate_anomaly_map', 'validate_explanation', 'validate_gt_label', 'validate_gt_mask', 'validate_image', 'validate_image_path', 'validate_mask_path', 'validate_pred_label', 'validate_pred_mask', 'validate_pred_score']\n",
      "  ✅ Found 16 predictions in .pred_label\n",
      "  ✅ Found 16 labels in .gt_label\n",
      "  Batch totals: 0 scores, 16 preds, 16 labels\n",
      "Raw extraction totals: 0 scores, 32 preds, 32 labels\n",
      "Processing prediction batch 3/7\n",
      "  Object attributes: ['anomaly_map', 'batch_size', 'collate', 'explanation', 'gt_label', 'gt_mask', 'image', 'image_path', 'item_class', 'items', 'mask_path', 'numpy_class', 'pred_label', 'pred_mask', 'pred_score', 'to_numpy', 'update', 'validate_anomaly_map', 'validate_explanation', 'validate_gt_label', 'validate_gt_mask', 'validate_image', 'validate_image_path', 'validate_mask_path', 'validate_pred_label', 'validate_pred_mask', 'validate_pred_score']\n",
      "  ✅ Found 16 predictions in .pred_label\n",
      "  ✅ Found 16 labels in .gt_label\n",
      "  Batch totals: 0 scores, 16 preds, 16 labels\n",
      "Raw extraction totals: 0 scores, 48 preds, 48 labels\n",
      "Processing prediction batch 4/7\n",
      "  Object attributes: ['anomaly_map', 'batch_size', 'collate', 'explanation', 'gt_label', 'gt_mask', 'image', 'image_path', 'item_class', 'items', 'mask_path', 'numpy_class', 'pred_label', 'pred_mask', 'pred_score', 'to_numpy', 'update', 'validate_anomaly_map', 'validate_explanation', 'validate_gt_label', 'validate_gt_mask', 'validate_image', 'validate_image_path', 'validate_mask_path', 'validate_pred_label', 'validate_pred_mask', 'validate_pred_score']\n",
      "  ✅ Found 16 predictions in .pred_label\n",
      "  ✅ Found 16 labels in .gt_label\n",
      "  Batch totals: 0 scores, 16 preds, 16 labels\n",
      "Raw extraction totals: 0 scores, 64 preds, 64 labels\n",
      "Processing prediction batch 5/7\n",
      "  Object attributes: ['anomaly_map', 'batch_size', 'collate', 'explanation', 'gt_label', 'gt_mask', 'image', 'image_path', 'item_class', 'items', 'mask_path', 'numpy_class', 'pred_label', 'pred_mask', 'pred_score', 'to_numpy', 'update', 'validate_anomaly_map', 'validate_explanation', 'validate_gt_label', 'validate_gt_mask', 'validate_image', 'validate_image_path', 'validate_mask_path', 'validate_pred_label', 'validate_pred_mask', 'validate_pred_score']\n",
      "  ✅ Found 16 predictions in .pred_label\n",
      "  ✅ Found 16 labels in .gt_label\n",
      "  Batch totals: 0 scores, 16 preds, 16 labels\n",
      "Raw extraction totals: 0 scores, 80 preds, 80 labels\n",
      "Processing prediction batch 6/7\n",
      "  Object attributes: ['anomaly_map', 'batch_size', 'collate', 'explanation', 'gt_label', 'gt_mask', 'image', 'image_path', 'item_class', 'items', 'mask_path', 'numpy_class', 'pred_label', 'pred_mask', 'pred_score', 'to_numpy', 'update', 'validate_anomaly_map', 'validate_explanation', 'validate_gt_label', 'validate_gt_mask', 'validate_image', 'validate_image_path', 'validate_mask_path', 'validate_pred_label', 'validate_pred_mask', 'validate_pred_score']\n",
      "  ✅ Found 16 predictions in .pred_label\n",
      "  ✅ Found 16 labels in .gt_label\n",
      "  Batch totals: 0 scores, 16 preds, 16 labels\n",
      "Raw extraction totals: 0 scores, 96 preds, 96 labels\n",
      "Processing prediction batch 7/7\n",
      "  Object attributes: ['anomaly_map', 'batch_size', 'collate', 'explanation', 'gt_label', 'gt_mask', 'image', 'image_path', 'item_class', 'items', 'mask_path', 'numpy_class', 'pred_label', 'pred_mask', 'pred_score', 'to_numpy', 'update', 'validate_anomaly_map', 'validate_explanation', 'validate_gt_label', 'validate_gt_mask', 'validate_image', 'validate_image_path', 'validate_mask_path', 'validate_pred_label', 'validate_pred_mask', 'validate_pred_score']\n",
      "  ✅ Found 14 predictions in .pred_label\n",
      "  ✅ Found 14 labels in .gt_label\n",
      "  Batch totals: 0 scores, 14 preds, 14 labels\n",
      "Raw extraction totals: 0 scores, 110 preds, 110 labels\n",
      "❌ All methods failed to extract scores\n",
      "❌ Could not generate analysis results for wandb logging\n"
     ]
    }
   ],
   "source": [
    "# ADVANCED WANDB LOGGING WITH DETAILED ANALYSIS\n",
    "import numpy as np\n",
    "\n",
    "def log_detailed_analysis_to_wandb(analysis_results, wandb_logger):\n",
    "    \"\"\"Log comprehensive analysis results to wandb.\"\"\"\n",
    "    \n",
    "    if analysis_results is None:\n",
    "        print(\"⚠️ No analysis results to log\")\n",
    "        return\n",
    "    \n",
    "    print(\"📊 Logging detailed analysis to wandb...\")\n",
    "    \n",
    "    # Extract key metrics\n",
    "    metrics = analysis_results['metrics']\n",
    "    cm = analysis_results['confusion_matrix']\n",
    "    \n",
    "    # Log detailed performance metrics\n",
    "    detailed_metrics = {\n",
    "        \"detailed/auroc\": metrics['auroc'],\n",
    "        \"detailed/accuracy\": metrics['accuracy'],\n",
    "        \"detailed/precision\": metrics['precision'],\n",
    "        \"detailed/recall\": metrics['recall'],\n",
    "        \"detailed/specificity\": metrics['specificity'],\n",
    "        \"detailed/f1_score\": metrics['f1_score'],\n",
    "        \n",
    "        \"confusion_matrix/true_positives\": metrics['tp'],\n",
    "        \"confusion_matrix/true_negatives\": metrics['tn'],\n",
    "        \"confusion_matrix/false_positives\": metrics['fp'],\n",
    "        \"confusion_matrix/false_negatives\": metrics['fn'],\n",
    "        \n",
    "        \"threshold/optimal_value\": analysis_results['threshold'] if analysis_results['threshold'] is not None else 0,\n",
    "        \n",
    "        \"scores/min_anomaly_score\": np.min(analysis_results['anomaly_scores']) if len(analysis_results['anomaly_scores']) > 0 else 0,\n",
    "        \"scores/max_anomaly_score\": np.max(analysis_results['anomaly_scores']) if len(analysis_results['anomaly_scores']) > 0 else 0,\n",
    "        \"scores/mean_score\": np.mean(analysis_results['anomaly_scores']) if len(analysis_results['anomaly_scores']) > 0 else 0,\n",
    "    }\n",
    "    \n",
    "    # Add score distributions by class\n",
    "    if len(analysis_results['anomaly_scores']) > 0 and len(analysis_results['ground_truths']) > 0:\n",
    "        normal_mask = analysis_results['ground_truths'] == 0\n",
    "        abnormal_mask = analysis_results['ground_truths'] == 1\n",
    "        \n",
    "        if np.any(normal_mask):\n",
    "            detailed_metrics[\"scores/mean_normal_score\"] = np.mean(analysis_results['anomaly_scores'][normal_mask])\n",
    "        if np.any(abnormal_mask):\n",
    "            detailed_metrics[\"scores/mean_abnormal_score\"] = np.mean(analysis_results['anomaly_scores'][abnormal_mask])\n",
    "    \n",
    "    # Log all metrics to wandb\n",
    "    wandb_logger.experiment.log(detailed_metrics)\n",
    "    \n",
    "    # Create confusion matrix table for wandb\n",
    "    if cm.size > 0:\n",
    "        cm_table = wandb.Table(\n",
    "            columns=[\"Actual\", \"Predicted\", \"Count\"],\n",
    "            data=[\n",
    "                [\"Normal\", \"Normal\", int(cm[0,0])],\n",
    "                [\"Normal\", \"Abnormal\", int(cm[0,1])],\n",
    "                [\"Abnormal\", \"Normal\", int(cm[1,0])],\n",
    "                [\"Abnormal\", \"Abnormal\", int(cm[1,1])]\n",
    "            ]\n",
    "        )\n",
    "        wandb_logger.experiment.log({\"confusion_matrix_table\": cm_table})\n",
    "    \n",
    "    # Log score distribution histogram\n",
    "    if len(analysis_results['anomaly_scores']) > 0:\n",
    "        wandb_logger.experiment.log({\n",
    "            \"score_distribution\": wandb.Histogram(analysis_results['anomaly_scores'])\n",
    "        })\n",
    "    \n",
    "    print(\"✅ Detailed analysis logged to wandb!\")\n",
    "    return detailed_metrics\n",
    "\n",
    "# Check if we have analysis results from previous evaluation\n",
    "if 'analysis_results' in locals() and analysis_results is not None:\n",
    "    print(\"📊 Found existing analysis results, logging to wandb...\")\n",
    "    logged_metrics = log_detailed_analysis_to_wandb(analysis_results, wandb_logger)\n",
    "else:\n",
    "    print(\"🔄 Running detailed analysis for wandb logging...\")\n",
    "    # Run the detailed analysis if it hasn't been done yet\n",
    "    analysis_results = get_proper_analysis(engine, model, dm)\n",
    "    if analysis_results is not None:\n",
    "        logged_metrics = log_detailed_analysis_to_wandb(analysis_results, wandb_logger)\n",
    "    else:\n",
    "        print(\"❌ Could not generate analysis results for wandb logging\")\n"
   ]
  },
  {
   "cell_type": "code",
   "execution_count": null,
   "id": "cba07c0a",
   "metadata": {},
   "outputs": [],
   "source": [
    "# VISUALIZATION LOGGING TO WANDB\n",
    "from sklearn.metrics import roc_curve, auc, precision_recall_curve\n",
    "import matplotlib.pyplot as plt\n",
    "\n",
    "def create_and_log_plots_to_wandb(analysis_results, wandb_logger):\n",
    "    \"\"\"Create visualizations and log them to wandb.\"\"\"\n",
    "    \n",
    "    if analysis_results is None or len(analysis_results['anomaly_scores']) == 0:\n",
    "        print(\"⚠️ No data available for plotting\")\n",
    "        return\n",
    "    \n",
    "    print(\"📊 Creating and logging plots to wandb...\")\n",
    "    \n",
    "    # Extract data\n",
    "    ground_truths = analysis_results['ground_truths']\n",
    "    anomaly_scores = analysis_results['anomaly_scores']\n",
    "    threshold = analysis_results['threshold']\n",
    "    \n",
    "    # Create figure with subplots\n",
    "    fig, axes = plt.subplots(2, 2, figsize=(15, 12))\n",
    "    \n",
    "    # 1. ROC Curve\n",
    "    fpr, tpr, roc_thresholds = roc_curve(ground_truths, anomaly_scores)\n",
    "    roc_auc = auc(fpr, tpr)\n",
    "    \n",
    "    axes[0,0].plot(fpr, tpr, color='darkorange', lw=2, \n",
    "                   label=f'ROC curve (AUC = {roc_auc:.4f})')\n",
    "    axes[0,0].plot([0, 1], [0, 1], color='navy', lw=2, linestyle='--')\n",
    "    axes[0,0].set_xlim([0.0, 1.0])\n",
    "    axes[0,0].set_ylim([0.0, 1.05])\n",
    "    axes[0,0].set_xlabel('False Positive Rate')\n",
    "    axes[0,0].set_ylabel('True Positive Rate')\n",
    "    axes[0,0].set_title('ROC Curve')\n",
    "    axes[0,0].legend(loc=\"lower right\")\n",
    "    axes[0,0].grid(True)\n",
    "    \n",
    "    # 2. Precision-Recall Curve\n",
    "    precision, recall, pr_thresholds = precision_recall_curve(ground_truths, anomaly_scores)\n",
    "    pr_auc = auc(recall, precision)\n",
    "    \n",
    "    axes[0,1].plot(recall, precision, color='blue', lw=2,\n",
    "                   label=f'PR curve (AUC = {pr_auc:.4f})')\n",
    "    axes[0,1].set_xlabel('Recall')\n",
    "    axes[0,1].set_ylabel('Precision')\n",
    "    axes[0,1].set_title('Precision-Recall Curve')\n",
    "    axes[0,1].legend()\n",
    "    axes[0,1].grid(True)\n",
    "    \n",
    "    # 3. Score Distribution\n",
    "    normal_scores = anomaly_scores[ground_truths == 0]\n",
    "    abnormal_scores = anomaly_scores[ground_truths == 1]\n",
    "    \n",
    "    axes[1,0].hist(normal_scores, bins=30, alpha=0.7, label='Normal', color='green')\n",
    "    axes[1,0].hist(abnormal_scores, bins=30, alpha=0.7, label='Abnormal', color='red')\n",
    "    if threshold is not None:\n",
    "        axes[1,0].axvline(threshold, color='black', linestyle='--', \n",
    "                          label=f'Threshold = {threshold:.4f}')\n",
    "    axes[1,0].set_xlabel('Anomaly Score')\n",
    "    axes[1,0].set_ylabel('Frequency')\n",
    "    axes[1,0].set_title('Score Distribution')\n",
    "    axes[1,0].legend()\n",
    "    axes[1,0].grid(True)\n",
    "    \n",
    "    # 4. Confusion Matrix Heatmap\n",
    "    import seaborn as sns\n",
    "    cm = analysis_results['confusion_matrix']\n",
    "    sns.heatmap(cm, annot=True, fmt='d', cmap='Blues', \n",
    "                xticklabels=['Normal', 'Abnormal'],\n",
    "                yticklabels=['Normal', 'Abnormal'],\n",
    "                ax=axes[1,1])\n",
    "    axes[1,1].set_title('Confusion Matrix')\n",
    "    axes[1,1].set_ylabel('True Label')\n",
    "    axes[1,1].set_xlabel('Predicted Label')\n",
    "    \n",
    "    plt.tight_layout()\n",
    "    \n",
    "    # Log the complete figure to wandb\n",
    "    wandb_logger.experiment.log({\"analysis_plots\": wandb.Image(fig)})\n",
    "    \n",
    "    # Log individual plot metrics\n",
    "    plot_metrics = {\n",
    "        \"plots/roc_auc\": roc_auc,\n",
    "        \"plots/pr_auc\": pr_auc,\n",
    "        \"plots/optimal_threshold_roc\": roc_thresholds[np.argmax(tpr - fpr)],\n",
    "    }\n",
    "    \n",
    "    wandb_logger.experiment.log(plot_metrics)\n",
    "    \n",
    "    plt.show()\n",
    "    \n",
    "    print(\"✅ Plots logged to wandb!\")\n",
    "    return plot_metrics\n",
    "\n",
    "# Create and log plots if we have analysis results\n",
    "if 'analysis_results' in locals() and analysis_results is not None:\n",
    "    plot_metrics = create_and_log_plots_to_wandb(analysis_results, wandb_logger)\n",
    "else:\n",
    "    print(\"⚠️ No analysis results available for plotting\")\n"
   ]
  },
  {
   "cell_type": "code",
   "execution_count": null,
   "id": "35cffc13",
   "metadata": {},
   "outputs": [],
   "source": [
    "# FINAL WANDB SUMMARY AND CLEANUP\n",
    "import time\n",
    "\n",
    "# Calculate total experiment duration\n",
    "total_duration = time.time() - start_time\n",
    "\n",
    "# Log final experiment summary\n",
    "final_summary = {\n",
    "    \"experiment/status\": \"completed\",\n",
    "    \"experiment/total_duration_minutes\": total_duration / 60,\n",
    "    \"experiment/total_duration_seconds\": total_duration,\n",
    "    \"model/architecture\": \"PatchCore\",\n",
    "    \"model/backbone\": \"resnet18\",\n",
    "    \"dataset/name\": \"spider_test\",\n",
    "    \"dataset/task\": \"anomaly_detection\",\n",
    "}\n",
    "\n",
    "# Add final performance summary if available\n",
    "if 'analysis_results' in locals() and analysis_results is not None:\n",
    "    final_summary.update({\n",
    "        \"results/final_auroc\": analysis_results['metrics']['auroc'],\n",
    "        \"results/final_f1_score\": analysis_results['metrics']['f1_score'],\n",
    "        \"results/final_accuracy\": analysis_results['metrics']['accuracy'],\n",
    "        \"results/samples_processed\": len(analysis_results['ground_truths']),\n",
    "    })\n",
    "\n",
    "# Log final summary\n",
    "wandb_logger.experiment.log(final_summary)\n",
    "\n",
    "# Log dataset information table\n",
    "dataset_info = wandb.Table(\n",
    "    columns=[\"Metric\", \"Value\"],\n",
    "    data=[\n",
    "        [\"Dataset Root\", \"spider_test\"],\n",
    "        [\"Normal Samples\", \"~100\"],\n",
    "        [\"Abnormal Samples\", \"~200\"],\n",
    "        [\"Model\", \"PatchCore\"],\n",
    "        [\"Backbone\", \"resnet18\"],\n",
    "        [\"Training Duration\", f\"{total_duration:.2f} seconds\"],\n",
    "        [\"Final AUROC\", f\"{analysis_results['metrics']['auroc']:.4f}\" if 'analysis_results' in locals() and analysis_results is not None else \"N/A\"],\n",
    "    ]\n",
    ")\n",
    "\n",
    "wandb_logger.experiment.log({\"experiment_summary\": dataset_info})\n",
    "\n",
    "print(f\"\\n🎉 EXPERIMENT COMPLETE!\")\n",
    "print(f\"⏱️  Total Duration: {total_duration:.2f} seconds ({total_duration/60:.2f} minutes)\")\n",
    "print(f\"🌐 Complete Dashboard: {wandb_logger.experiment.url}\")\n",
    "\n",
    "if 'analysis_results' in locals() and analysis_results is not None:\n",
    "    print(f\"📊 Final AUROC: {analysis_results['metrics']['auroc']:.4f}\")\n",
    "    print(f\"📈 Final F1-Score: {analysis_results['metrics']['f1_score']:.4f}\")\n",
    "    print(f\"🎯 Final Accuracy: {analysis_results['metrics']['accuracy']:.4f}\")\n",
    "\n",
    "# Finish the wandb run\n",
    "wandb.finish()\n",
    "print(\"✅ Wandb run finished and logged successfully!\")\n"
   ]
  }
 ],
 "metadata": {
  "kernelspec": {
   "display_name": "Python 3",
   "language": "python",
   "name": "python3"
  },
  "language_info": {
   "codemirror_mode": {
    "name": "ipython",
    "version": 3
   },
   "file_extension": ".py",
   "mimetype": "text/x-python",
   "name": "python",
   "nbconvert_exporter": "python",
   "pygments_lexer": "ipython3",
   "version": "3.13.3"
  }
 },
 "nbformat": 4,
 "nbformat_minor": 5
}
