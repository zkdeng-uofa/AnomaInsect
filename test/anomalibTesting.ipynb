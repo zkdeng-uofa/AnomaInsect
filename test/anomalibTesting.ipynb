{
 "cells": [
  {
   "cell_type": "code",
   "execution_count": null,
   "id": "e893baf5",
   "metadata": {},
   "outputs": [],
   "source": [
    "# 1. Import required modules\n",
    "from anomalib.data import MVTecAD\n",
    "from anomalib.deploy import ExportType\n",
    "from anomalib.engine import Engine\n",
    "from anomalib.models import Patchcore\n",
    "\n",
    "# 2. Create a dataset\n",
    "# MVTecAD is a popular dataset for anomaly detection\n",
    "datamodule = MVTecAD(\n",
    "    root=\"./datasets/MVTecAD\",  # Path to download/store the dataset\n",
    "    category=\"bottle\",  # MVTec category to use\n",
    "    train_batch_size=32,  # Number of images per training batch\n",
    "    eval_batch_size=32,  # Number of images per validation/test batch\n",
    ")\n",
    "\n",
    "\n",
    "# 3. Initialize the model\n",
    "# Patchcore is a good choice for beginners\n",
    "model = Patchcore(\n",
    "    num_neighbors=6,  # Override default model settings\n",
    ")\n",
    "\n",
    "\n",
    "# 4. Create the training engine\n",
    "engine = Engine(\n",
    "    max_epochs=1,  # Override default trainer settings\n",
    ")\n",
    "\n",
    "# 5. Train the model\n",
    "# This produces a lightning model (.ckpt)\n",
    "engine.fit(datamodule=datamodule, model=model)\n",
    "\n",
    "\n",
    "# 6. Test the model performance\n",
    "test_results = engine.test(datamodule=datamodule, model=model)\n"
   ]
  },
  {
   "cell_type": "markdown",
   "id": "00e2ac4e",
   "metadata": {},
   "source": [
    "\n"
   ]
  },
  {
   "cell_type": "markdown",
   "id": "0786f63e",
   "metadata": {},
   "source": [
    "\n"
   ]
  },
  {
   "cell_type": "code",
   "execution_count": null,
   "id": "2012332d",
   "metadata": {},
   "outputs": [],
   "source": [
    "\n"
   ]
  },
  {
   "cell_type": "code",
   "execution_count": null,
   "id": "1369c3c8",
   "metadata": {},
   "outputs": [],
   "source": [
    "\n"
   ]
  },
  {
   "cell_type": "code",
   "execution_count": null,
   "id": "ec1f289f",
   "metadata": {},
   "outputs": [],
   "source": [
    "\n"
   ]
  },
  {
   "cell_type": "code",
   "execution_count": null,
   "id": "7c5ce301",
   "metadata": {},
   "outputs": [],
   "source": [
    "\n"
   ]
  },
  {
   "cell_type": "markdown",
   "id": "94146d84",
   "metadata": {},
   "source": [
    "\n"
   ]
  },
  {
   "cell_type": "markdown",
   "id": "04022956",
   "metadata": {},
   "source": [
    "\n"
   ]
  },
  {
   "cell_type": "markdown",
   "id": "882e675c",
   "metadata": {},
   "source": [
    "\n"
   ]
  },
  {
   "cell_type": "markdown",
   "id": "0a22c1c8",
   "metadata": {},
   "source": [
    "\n"
   ]
  },
  {
   "cell_type": "code",
   "execution_count": null,
   "id": "cc9110ef",
   "metadata": {},
   "outputs": [],
   "source": [
    "\n"
   ]
  },
  {
   "cell_type": "markdown",
   "id": "bc8f3e44",
   "metadata": {},
   "source": [
    "\n"
   ]
  },
  {
   "cell_type": "markdown",
   "id": "95b52fc8",
   "metadata": {},
   "source": [
    "\n"
   ]
  },
  {
   "cell_type": "markdown",
   "id": "54149b8e",
   "metadata": {},
   "source": [
    "\n"
   ]
  },
  {
   "cell_type": "code",
   "execution_count": null,
   "id": "04561469",
   "metadata": {},
   "outputs": [],
   "source": [
    "\n"
   ]
  },
  {
   "cell_type": "markdown",
   "id": "194b66a9",
   "metadata": {},
   "source": [
    "\n"
   ]
  },
  {
   "cell_type": "markdown",
   "id": "57abdb2d",
   "metadata": {},
   "source": [
    "\n"
   ]
  },
  {
   "cell_type": "markdown",
   "id": "c3709013",
   "metadata": {},
   "source": [
    "\n"
   ]
  },
  {
   "cell_type": "code",
   "execution_count": null,
   "id": "b31cbef4",
   "metadata": {},
   "outputs": [],
   "source": [
    "\n"
   ]
  },
  {
   "cell_type": "markdown",
   "id": "d8f166e3",
   "metadata": {},
   "source": [
    "\n"
   ]
  },
  {
   "cell_type": "code",
   "execution_count": null,
   "id": "5fc35e77",
   "metadata": {},
   "outputs": [],
   "source": [
    "\n"
   ]
  },
  {
   "cell_type": "markdown",
   "id": "7137650b",
   "metadata": {},
   "source": [
    "\n"
   ]
  },
  {
   "cell_type": "markdown",
   "id": "39bd3c6c",
   "metadata": {},
   "source": [
    "\n"
   ]
  },
  {
   "cell_type": "markdown",
   "id": "d23704ed",
   "metadata": {},
   "source": [
    "\n"
   ]
  },
  {
   "cell_type": "markdown",
   "id": "9a90d3a9",
   "metadata": {},
   "source": [
    "\n"
   ]
  },
  {
   "cell_type": "code",
   "execution_count": null,
   "id": "ca4f1853",
   "metadata": {},
   "outputs": [],
   "source": [
    "\n"
   ]
  },
  {
   "cell_type": "markdown",
   "id": "cd703ea8",
   "metadata": {},
   "source": [
    "\n"
   ]
  }
 ],
 "metadata": {
  "kernelspec": {
   "display_name": "Python 3",
   "language": "python",
   "name": "python3"
  },
  "language_info": {
   "name": "python",
   "version": "3.13.3"
  }
 },
 "nbformat": 4,
 "nbformat_minor": 5
}
